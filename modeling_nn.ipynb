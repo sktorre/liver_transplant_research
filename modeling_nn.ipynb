{
 "cells": [
  {
   "cell_type": "markdown",
   "id": "675701a8",
   "metadata": {},
   "source": [
    "## Reading in the data"
   ]
  },
  {
   "cell_type": "code",
   "execution_count": 6,
   "id": "7a409c95",
   "metadata": {},
   "outputs": [],
   "source": [
    "#!pip install boxsdk"
   ]
  },
  {
   "cell_type": "code",
   "execution_count": 128,
   "id": "9ad2f6e1",
   "metadata": {},
   "outputs": [],
   "source": [
    "# Import two classes from the boxsdk module - Client and OAuth2\n",
    "from boxsdk import Client, OAuth2\n",
    "\n",
    "import pandas as pd\n",
    "import io\n",
    "import numpy as np\n",
    "\n",
    "#displaying not in scientific notation for readability\n",
    "pd.options.display.float_format = '{:.5f}'.format\n",
    "\n",
    "# Read app info from text file\n",
    "with open('app.cfg', 'r') as app_cfg:\n",
    "    CLIENT_ID = app_cfg.readline()\n",
    "    CLIENT_SECRET = app_cfg.readline()\n",
    "    ACCESS_TOKEN = app_cfg.readline()"
   ]
  },
  {
   "cell_type": "code",
   "execution_count": 129,
   "id": "352293ea",
   "metadata": {},
   "outputs": [],
   "source": [
    "class BOXFile:\n",
    " def __init__(self, CLIENT_ID, CLIENT_SECRET, ACCESS_TOKEN):\n",
    "     self._oauth2 = OAuth2(CLIENT_ID, CLIENT_SECRET, access_token=ACCESS_TOKEN)\n",
    "     self._client = Client(self._oauth2)\n",
    "     self._file = None\n",
    " \n",
    " def GetUserInfo(self):\n",
    "     my = self._client.user(user_id='me').get()\n",
    "\n",
    " def GetFile(self, fileID):\n",
    "     self._file = self._client.file(fileID)\n",
    "     return(self._file.content())"
   ]
  },
  {
   "cell_type": "code",
   "execution_count": 130,
   "id": "f25570fc",
   "metadata": {},
   "outputs": [],
   "source": [
    "boxfile = BOXFile(CLIENT_ID, CLIENT_SECRET, ACCESS_TOKEN)\n",
    "csvFile = boxfile.GetFile('936748103348').decode(\"utf-8\")\n",
    "ioFile = io.StringIO(csvFile)"
   ]
  },
  {
   "cell_type": "code",
   "execution_count": 131,
   "id": "4f019084",
   "metadata": {},
   "outputs": [
    {
     "data": {
      "text/html": [
       "<div>\n",
       "<style scoped>\n",
       "    .dataframe tbody tr th:only-of-type {\n",
       "        vertical-align: middle;\n",
       "    }\n",
       "\n",
       "    .dataframe tbody tr th {\n",
       "        vertical-align: top;\n",
       "    }\n",
       "\n",
       "    .dataframe thead th {\n",
       "        text-align: right;\n",
       "    }\n",
       "</style>\n",
       "<table border=\"1\" class=\"dataframe\">\n",
       "  <thead>\n",
       "    <tr style=\"text-align: right;\">\n",
       "      <th></th>\n",
       "      <th>age</th>\n",
       "      <th>height</th>\n",
       "      <th>ascites_yn</th>\n",
       "      <th>he</th>\n",
       "      <th>race</th>\n",
       "      <th>sex</th>\n",
       "      <th>smoker</th>\n",
       "      <th>cit</th>\n",
       "      <th>etiology</th>\n",
       "      <th>meld</th>\n",
       "      <th>...</th>\n",
       "      <th>htn</th>\n",
       "      <th>dm</th>\n",
       "      <th>ckd</th>\n",
       "      <th>copd</th>\n",
       "      <th>cad</th>\n",
       "      <th>ctd</th>\n",
       "      <th>prev_state</th>\n",
       "      <th>time</th>\n",
       "      <th>state</th>\n",
       "      <th>patient_mrn</th>\n",
       "    </tr>\n",
       "  </thead>\n",
       "  <tbody>\n",
       "    <tr>\n",
       "      <th>0</th>\n",
       "      <td>57</td>\n",
       "      <td>162.60000</td>\n",
       "      <td>1</td>\n",
       "      <td>1</td>\n",
       "      <td>0</td>\n",
       "      <td>1</td>\n",
       "      <td>0</td>\n",
       "      <td>9.07000</td>\n",
       "      <td>4</td>\n",
       "      <td>27</td>\n",
       "      <td>...</td>\n",
       "      <td>1</td>\n",
       "      <td>1</td>\n",
       "      <td>1</td>\n",
       "      <td>0</td>\n",
       "      <td>0</td>\n",
       "      <td>0</td>\n",
       "      <td>ICU/Vent</td>\n",
       "      <td>1</td>\n",
       "      <td>ICU/Vent</td>\n",
       "      <td>3156866</td>\n",
       "    </tr>\n",
       "    <tr>\n",
       "      <th>1</th>\n",
       "      <td>57</td>\n",
       "      <td>162.60000</td>\n",
       "      <td>1</td>\n",
       "      <td>1</td>\n",
       "      <td>0</td>\n",
       "      <td>1</td>\n",
       "      <td>0</td>\n",
       "      <td>9.07000</td>\n",
       "      <td>4</td>\n",
       "      <td>27</td>\n",
       "      <td>...</td>\n",
       "      <td>1</td>\n",
       "      <td>1</td>\n",
       "      <td>1</td>\n",
       "      <td>0</td>\n",
       "      <td>0</td>\n",
       "      <td>0</td>\n",
       "      <td>ICU/Vent</td>\n",
       "      <td>2</td>\n",
       "      <td>ICU/Vent</td>\n",
       "      <td>3156866</td>\n",
       "    </tr>\n",
       "    <tr>\n",
       "      <th>2</th>\n",
       "      <td>57</td>\n",
       "      <td>162.60000</td>\n",
       "      <td>1</td>\n",
       "      <td>1</td>\n",
       "      <td>0</td>\n",
       "      <td>1</td>\n",
       "      <td>0</td>\n",
       "      <td>9.07000</td>\n",
       "      <td>4</td>\n",
       "      <td>27</td>\n",
       "      <td>...</td>\n",
       "      <td>1</td>\n",
       "      <td>1</td>\n",
       "      <td>1</td>\n",
       "      <td>0</td>\n",
       "      <td>0</td>\n",
       "      <td>0</td>\n",
       "      <td>ICU/Vent</td>\n",
       "      <td>3</td>\n",
       "      <td>ICU/Vent</td>\n",
       "      <td>3156866</td>\n",
       "    </tr>\n",
       "    <tr>\n",
       "      <th>3</th>\n",
       "      <td>57</td>\n",
       "      <td>162.60000</td>\n",
       "      <td>1</td>\n",
       "      <td>1</td>\n",
       "      <td>0</td>\n",
       "      <td>1</td>\n",
       "      <td>0</td>\n",
       "      <td>9.07000</td>\n",
       "      <td>4</td>\n",
       "      <td>27</td>\n",
       "      <td>...</td>\n",
       "      <td>1</td>\n",
       "      <td>1</td>\n",
       "      <td>1</td>\n",
       "      <td>0</td>\n",
       "      <td>0</td>\n",
       "      <td>0</td>\n",
       "      <td>ICU/Vent</td>\n",
       "      <td>4</td>\n",
       "      <td>ICU/Vent</td>\n",
       "      <td>3156866</td>\n",
       "    </tr>\n",
       "    <tr>\n",
       "      <th>4</th>\n",
       "      <td>57</td>\n",
       "      <td>162.60000</td>\n",
       "      <td>1</td>\n",
       "      <td>1</td>\n",
       "      <td>0</td>\n",
       "      <td>1</td>\n",
       "      <td>0</td>\n",
       "      <td>9.07000</td>\n",
       "      <td>4</td>\n",
       "      <td>27</td>\n",
       "      <td>...</td>\n",
       "      <td>1</td>\n",
       "      <td>1</td>\n",
       "      <td>1</td>\n",
       "      <td>0</td>\n",
       "      <td>0</td>\n",
       "      <td>0</td>\n",
       "      <td>ICU/Vent</td>\n",
       "      <td>5</td>\n",
       "      <td>ICU/Vent</td>\n",
       "      <td>3156866</td>\n",
       "    </tr>\n",
       "  </tbody>\n",
       "</table>\n",
       "<p>5 rows × 35 columns</p>\n",
       "</div>"
      ],
      "text/plain": [
       "   age    height  ascites_yn  he  race  sex  smoker     cit  etiology  meld  \\\n",
       "0   57 162.60000           1   1     0    1       0 9.07000         4    27   \n",
       "1   57 162.60000           1   1     0    1       0 9.07000         4    27   \n",
       "2   57 162.60000           1   1     0    1       0 9.07000         4    27   \n",
       "3   57 162.60000           1   1     0    1       0 9.07000         4    27   \n",
       "4   57 162.60000           1   1     0    1       0 9.07000         4    27   \n",
       "\n",
       "   ...  htn  dm  ckd  copd  cad  ctd  prev_state  time     state  patient_mrn  \n",
       "0  ...    1   1    1     0    0    0    ICU/Vent     1  ICU/Vent      3156866  \n",
       "1  ...    1   1    1     0    0    0    ICU/Vent     2  ICU/Vent      3156866  \n",
       "2  ...    1   1    1     0    0    0    ICU/Vent     3  ICU/Vent      3156866  \n",
       "3  ...    1   1    1     0    0    0    ICU/Vent     4  ICU/Vent      3156866  \n",
       "4  ...    1   1    1     0    0    0    ICU/Vent     5  ICU/Vent      3156866  \n",
       "\n",
       "[5 rows x 35 columns]"
      ]
     },
     "execution_count": 131,
     "metadata": {},
     "output_type": "execute_result"
    }
   ],
   "source": [
    "df = pd.read_csv(filepath_or_buffer = ioFile, delimiter = \",\")\n",
    "df.head()"
   ]
  },
  {
   "cell_type": "code",
   "execution_count": 93,
   "id": "a8402c0e",
   "metadata": {},
   "outputs": [
    {
     "data": {
      "text/plain": [
       "(39668, 35)"
      ]
     },
     "execution_count": 93,
     "metadata": {},
     "output_type": "execute_result"
    }
   ],
   "source": [
    "df.shape"
   ]
  },
  {
   "cell_type": "code",
   "execution_count": 94,
   "id": "602b920d",
   "metadata": {},
   "outputs": [
    {
     "data": {
      "text/plain": [
       "age                                  0\n",
       "height                               0\n",
       "ascites_yn                           0\n",
       "he                                   0\n",
       "race                                 0\n",
       "sex                                  0\n",
       "smoker                               0\n",
       "cit                                  0\n",
       "etiology                             0\n",
       "meld                                 0\n",
       "acr                                  0\n",
       "newmalignancy                        0\n",
       "surgeryduration                      0\n",
       "readmissionwithin90d                 0\n",
       "infection_90                         0\n",
       "need_repeat_surgery                  0\n",
       "vascularcomplicationswithin90days    0\n",
       "sma00                                0\n",
       "vat00                                0\n",
       "sat00                                0\n",
       "s_mhu00                              0\n",
       "v_fhu00                              0\n",
       "sa_thu00                             0\n",
       "biliarycomplication                  0\n",
       "location_dc                          0\n",
       "htn                                  0\n",
       "dm                                   0\n",
       "ckd                                  0\n",
       "copd                                 0\n",
       "cad                                  0\n",
       "ctd                                  0\n",
       "prev_state                           0\n",
       "time                                 0\n",
       "state                                0\n",
       "patient_mrn                          0\n",
       "dtype: int64"
      ]
     },
     "execution_count": 94,
     "metadata": {},
     "output_type": "execute_result"
    }
   ],
   "source": [
    "df.isna().sum()"
   ]
  },
  {
   "cell_type": "markdown",
   "id": "4164afe7",
   "metadata": {},
   "source": [
    "### Terminating follow-up after death\n",
    "\n",
    "Because death is an absorbing state, I want to remove all observations after death for patients who die. "
   ]
  },
  {
   "cell_type": "code",
   "execution_count": 95,
   "id": "ef50de1c",
   "metadata": {},
   "outputs": [],
   "source": [
    "df = df[df['prev_state'] != 'Dead']"
   ]
  },
  {
   "cell_type": "markdown",
   "id": "f013a063",
   "metadata": {},
   "source": [
    "### 90 Day Period\n",
    "\n",
    "Because I don't have the cause of death for patients in the study, the longer post liver transplant the less I can assume that a patient dying is caused by the liver transplant. Also after 90 all patients are out of the hospital and either at home/in a facility or have died. I need to filter the data to only include days in the 90 period after a patient's liver transplant surgery."
   ]
  },
  {
   "cell_type": "code",
   "execution_count": 96,
   "id": "dedddd97",
   "metadata": {},
   "outputs": [],
   "source": [
    "df = df[df['time'] < 91]"
   ]
  },
  {
   "cell_type": "code",
   "execution_count": 9,
   "id": "80c4aaa2",
   "metadata": {},
   "outputs": [
    {
     "data": {
      "text/plain": [
       "(37501, 36)"
      ]
     },
     "execution_count": 9,
     "metadata": {},
     "output_type": "execute_result"
    }
   ],
   "source": [
    "df.shape"
   ]
  },
  {
   "cell_type": "markdown",
   "id": "8393bbee",
   "metadata": {},
   "source": [
    "###  Convert Categorical variables\n",
    "\n",
    "Because neural networks can only handle numeric inputs, I need to convert categorical variables to numeric values."
   ]
  },
  {
   "cell_type": "code",
   "execution_count": 97,
   "id": "de0d514b",
   "metadata": {},
   "outputs": [],
   "source": [
    "df['state'].replace([\"Home/IPR\", \"Hospital\", \"ICU/Vent\", \"Dead\"],\n",
    "                        [0, 1, 2, 3], inplace=True)\n",
    "                     \n",
    "df['prev_state'].replace([\"Home/IPR\", \"Hospital\", \"ICU/Vent\"],\n",
    "                        [0, 1, 2], inplace=True)                     "
   ]
  },
  {
   "cell_type": "code",
   "execution_count": 98,
   "id": "8e9fe040",
   "metadata": {},
   "outputs": [
    {
     "data": {
      "text/html": [
       "<div>\n",
       "<style scoped>\n",
       "    .dataframe tbody tr th:only-of-type {\n",
       "        vertical-align: middle;\n",
       "    }\n",
       "\n",
       "    .dataframe tbody tr th {\n",
       "        vertical-align: top;\n",
       "    }\n",
       "\n",
       "    .dataframe thead th {\n",
       "        text-align: right;\n",
       "    }\n",
       "</style>\n",
       "<table border=\"1\" class=\"dataframe\">\n",
       "  <thead>\n",
       "    <tr style=\"text-align: right;\">\n",
       "      <th></th>\n",
       "      <th>age</th>\n",
       "      <th>height</th>\n",
       "      <th>ascites_yn</th>\n",
       "      <th>he</th>\n",
       "      <th>race</th>\n",
       "      <th>sex</th>\n",
       "      <th>smoker</th>\n",
       "      <th>cit</th>\n",
       "      <th>etiology</th>\n",
       "      <th>meld</th>\n",
       "      <th>...</th>\n",
       "      <th>htn</th>\n",
       "      <th>dm</th>\n",
       "      <th>ckd</th>\n",
       "      <th>copd</th>\n",
       "      <th>cad</th>\n",
       "      <th>ctd</th>\n",
       "      <th>prev_state</th>\n",
       "      <th>time</th>\n",
       "      <th>state</th>\n",
       "      <th>patient_mrn</th>\n",
       "    </tr>\n",
       "  </thead>\n",
       "  <tbody>\n",
       "    <tr>\n",
       "      <th>0</th>\n",
       "      <td>57</td>\n",
       "      <td>162.60000</td>\n",
       "      <td>1</td>\n",
       "      <td>1</td>\n",
       "      <td>0</td>\n",
       "      <td>1</td>\n",
       "      <td>0</td>\n",
       "      <td>9.07000</td>\n",
       "      <td>4</td>\n",
       "      <td>27</td>\n",
       "      <td>...</td>\n",
       "      <td>1</td>\n",
       "      <td>1</td>\n",
       "      <td>1</td>\n",
       "      <td>0</td>\n",
       "      <td>0</td>\n",
       "      <td>0</td>\n",
       "      <td>2</td>\n",
       "      <td>1</td>\n",
       "      <td>2</td>\n",
       "      <td>3156866</td>\n",
       "    </tr>\n",
       "    <tr>\n",
       "      <th>1</th>\n",
       "      <td>57</td>\n",
       "      <td>162.60000</td>\n",
       "      <td>1</td>\n",
       "      <td>1</td>\n",
       "      <td>0</td>\n",
       "      <td>1</td>\n",
       "      <td>0</td>\n",
       "      <td>9.07000</td>\n",
       "      <td>4</td>\n",
       "      <td>27</td>\n",
       "      <td>...</td>\n",
       "      <td>1</td>\n",
       "      <td>1</td>\n",
       "      <td>1</td>\n",
       "      <td>0</td>\n",
       "      <td>0</td>\n",
       "      <td>0</td>\n",
       "      <td>2</td>\n",
       "      <td>2</td>\n",
       "      <td>2</td>\n",
       "      <td>3156866</td>\n",
       "    </tr>\n",
       "    <tr>\n",
       "      <th>2</th>\n",
       "      <td>57</td>\n",
       "      <td>162.60000</td>\n",
       "      <td>1</td>\n",
       "      <td>1</td>\n",
       "      <td>0</td>\n",
       "      <td>1</td>\n",
       "      <td>0</td>\n",
       "      <td>9.07000</td>\n",
       "      <td>4</td>\n",
       "      <td>27</td>\n",
       "      <td>...</td>\n",
       "      <td>1</td>\n",
       "      <td>1</td>\n",
       "      <td>1</td>\n",
       "      <td>0</td>\n",
       "      <td>0</td>\n",
       "      <td>0</td>\n",
       "      <td>2</td>\n",
       "      <td>3</td>\n",
       "      <td>2</td>\n",
       "      <td>3156866</td>\n",
       "    </tr>\n",
       "    <tr>\n",
       "      <th>3</th>\n",
       "      <td>57</td>\n",
       "      <td>162.60000</td>\n",
       "      <td>1</td>\n",
       "      <td>1</td>\n",
       "      <td>0</td>\n",
       "      <td>1</td>\n",
       "      <td>0</td>\n",
       "      <td>9.07000</td>\n",
       "      <td>4</td>\n",
       "      <td>27</td>\n",
       "      <td>...</td>\n",
       "      <td>1</td>\n",
       "      <td>1</td>\n",
       "      <td>1</td>\n",
       "      <td>0</td>\n",
       "      <td>0</td>\n",
       "      <td>0</td>\n",
       "      <td>2</td>\n",
       "      <td>4</td>\n",
       "      <td>2</td>\n",
       "      <td>3156866</td>\n",
       "    </tr>\n",
       "    <tr>\n",
       "      <th>4</th>\n",
       "      <td>57</td>\n",
       "      <td>162.60000</td>\n",
       "      <td>1</td>\n",
       "      <td>1</td>\n",
       "      <td>0</td>\n",
       "      <td>1</td>\n",
       "      <td>0</td>\n",
       "      <td>9.07000</td>\n",
       "      <td>4</td>\n",
       "      <td>27</td>\n",
       "      <td>...</td>\n",
       "      <td>1</td>\n",
       "      <td>1</td>\n",
       "      <td>1</td>\n",
       "      <td>0</td>\n",
       "      <td>0</td>\n",
       "      <td>0</td>\n",
       "      <td>2</td>\n",
       "      <td>5</td>\n",
       "      <td>2</td>\n",
       "      <td>3156866</td>\n",
       "    </tr>\n",
       "  </tbody>\n",
       "</table>\n",
       "<p>5 rows × 35 columns</p>\n",
       "</div>"
      ],
      "text/plain": [
       "   age    height  ascites_yn  he  race  sex  smoker     cit  etiology  meld  \\\n",
       "0   57 162.60000           1   1     0    1       0 9.07000         4    27   \n",
       "1   57 162.60000           1   1     0    1       0 9.07000         4    27   \n",
       "2   57 162.60000           1   1     0    1       0 9.07000         4    27   \n",
       "3   57 162.60000           1   1     0    1       0 9.07000         4    27   \n",
       "4   57 162.60000           1   1     0    1       0 9.07000         4    27   \n",
       "\n",
       "   ...  htn  dm  ckd  copd  cad  ctd  prev_state  time  state  patient_mrn  \n",
       "0  ...    1   1    1     0    0    0           2     1      2      3156866  \n",
       "1  ...    1   1    1     0    0    0           2     2      2      3156866  \n",
       "2  ...    1   1    1     0    0    0           2     3      2      3156866  \n",
       "3  ...    1   1    1     0    0    0           2     4      2      3156866  \n",
       "4  ...    1   1    1     0    0    0           2     5      2      3156866  \n",
       "\n",
       "[5 rows x 35 columns]"
      ]
     },
     "execution_count": 98,
     "metadata": {},
     "output_type": "execute_result"
    }
   ],
   "source": [
    "df.head()"
   ]
  },
  {
   "cell_type": "code",
   "execution_count": 99,
   "id": "c3b079f4",
   "metadata": {},
   "outputs": [
    {
     "data": {
      "text/plain": [
       "age                                    int64\n",
       "height                               float64\n",
       "ascites_yn                             int64\n",
       "he                                     int64\n",
       "race                                   int64\n",
       "sex                                    int64\n",
       "smoker                                 int64\n",
       "cit                                  float64\n",
       "etiology                               int64\n",
       "meld                                   int64\n",
       "acr                                    int64\n",
       "newmalignancy                          int64\n",
       "surgeryduration                        int64\n",
       "readmissionwithin90d                   int64\n",
       "infection_90                           int64\n",
       "need_repeat_surgery                    int64\n",
       "vascularcomplicationswithin90days      int64\n",
       "sma00                                float64\n",
       "vat00                                float64\n",
       "sat00                                float64\n",
       "s_mhu00                              float64\n",
       "v_fhu00                              float64\n",
       "sa_thu00                             float64\n",
       "biliarycomplication                    int64\n",
       "location_dc                            int64\n",
       "htn                                    int64\n",
       "dm                                     int64\n",
       "ckd                                    int64\n",
       "copd                                   int64\n",
       "cad                                    int64\n",
       "ctd                                    int64\n",
       "prev_state                             int64\n",
       "time                                   int64\n",
       "state                                  int64\n",
       "patient_mrn                            int64\n",
       "dtype: object"
      ]
     },
     "execution_count": 99,
     "metadata": {},
     "output_type": "execute_result"
    }
   ],
   "source": [
    "df.dtypes"
   ]
  },
  {
   "cell_type": "code",
   "execution_count": 13,
   "id": "24111516",
   "metadata": {},
   "outputs": [
    {
     "data": {
      "text/plain": [
       "(37501, 36)"
      ]
     },
     "execution_count": 13,
     "metadata": {},
     "output_type": "execute_result"
    }
   ],
   "source": [
    "df.shape"
   ]
  },
  {
   "cell_type": "markdown",
   "id": "bf683f56",
   "metadata": {},
   "source": [
    "## Looking at Correlations\n",
    "\n",
    "Before modeling, I want to look at the correlation between different variables in my data set."
   ]
  },
  {
   "cell_type": "code",
   "execution_count": 100,
   "id": "7d3c21b9",
   "metadata": {},
   "outputs": [
    {
     "data": {
      "text/plain": [
       "<AxesSubplot:>"
      ]
     },
     "execution_count": 100,
     "metadata": {},
     "output_type": "execute_result"
    },
    {
     "data": {
      "image/png": "[encoded data removed]",
      "text/plain": [
       "<Figure size 1080x576 with 2 Axes>"
      ]
     },
     "metadata": {},
     "output_type": "display_data"
    }
   ],
   "source": [
    "import seaborn as sns\n",
    "import matplotlib as plt\n",
    "corr = df.corr()\n",
    "sns.set(rc = {'figure.figsize':(15,8)})\n",
    "sns.heatmap(corr, \n",
    "xticklabels=corr.columns.values,\n",
    "yticklabels=corr.columns.values,\n",
    "           linewidths=.005)"
   ]
  },
  {
   "cell_type": "code",
   "execution_count": 101,
   "id": "277cce62",
   "metadata": {},
   "outputs": [
    {
     "data": {
      "text/plain": [
       "0.9524251897644243"
      ]
     },
     "execution_count": 101,
     "metadata": {},
     "output_type": "execute_result"
    }
   ],
   "source": [
    "df['state'].corr(df['prev_state'])"
   ]
  },
  {
   "cell_type": "markdown",
   "id": "bd9ee49d",
   "metadata": {},
   "source": [
    "### Data Splitting\n",
    "\n",
    "Data cleaning, feature selection, imputing missing values and data processing have all been done in R before reading the data into this notebook. The data however, is not split into training and testing or scaled for modeling.\n",
    "\n",
    "I need to split the data into separate training and testing data sets. Because the data originally was one observation per patient and I want to make sure all observations for each patient are in the same dat set, I will split the data based on patient_mrn."
   ]
  },
  {
   "cell_type": "code",
   "execution_count": 102,
   "id": "622042ad",
   "metadata": {},
   "outputs": [],
   "source": [
    "from sklearn.model_selection import train_test_split\n",
    "\n",
    "patients = df['patient_mrn'].unique()\n",
    "\n",
    "train_patients, test_patients = train_test_split(patients, test_size=0.2, random_state = 22)"
   ]
  },
  {
   "cell_type": "code",
   "execution_count": 103,
   "id": "21b93765",
   "metadata": {},
   "outputs": [
    {
     "name": "stdout",
     "output_type": "stream",
     "text": [
      "(337,)\n",
      "(85,)\n"
     ]
    }
   ],
   "source": [
    "print(train_patients.shape)\n",
    "print(test_patients.shape)"
   ]
  },
  {
   "cell_type": "code",
   "execution_count": 104,
   "id": "35bdd7a7",
   "metadata": {},
   "outputs": [
    {
     "name": "stdout",
     "output_type": "stream",
     "text": [
      "(29972, 35)\n",
      "(7529, 35)\n"
     ]
    }
   ],
   "source": [
    "train = df[df[\"patient_mrn\"].isin(train_patients)]\n",
    "test = df[df[\"patient_mrn\"].isin(test_patients)]\n",
    "\n",
    "print(train.shape)\n",
    "print(test.shape)"
   ]
  },
  {
   "cell_type": "code",
   "execution_count": 105,
   "id": "8c7210dd",
   "metadata": {},
   "outputs": [],
   "source": [
    "X_train = train.drop(['state'], axis = 1)\n",
    "X_test = test.drop(['state'], axis = 1)\n",
    "y_train = train[['state']]\n",
    "y_test = test[['state']]\n",
    "\n",
    "y_test = y_test['state'].to_numpy()\n",
    "y_train = y_train['state'].to_numpy()"
   ]
  },
  {
   "cell_type": "code",
   "execution_count": 106,
   "id": "a5b051cd",
   "metadata": {},
   "outputs": [
    {
     "name": "stdout",
     "output_type": "stream",
     "text": [
      "(29972, 34)\n",
      "(7529, 34)\n",
      "(29972,)\n",
      "(7529,)\n"
     ]
    }
   ],
   "source": [
    "print(X_train.shape)\n",
    "print(X_test.shape)\n",
    "print(y_train.shape)\n",
    "print(y_test.shape)"
   ]
  },
  {
   "cell_type": "markdown",
   "id": "ec207f17",
   "metadata": {},
   "source": [
    "### Data Scaling\n",
    "\n",
    "Now that I have training and testing data sets, I need to scale the features to be between 0 and 1 in the training set and then use these scaling parameters to scale the test set. "
   ]
  },
  {
   "cell_type": "code",
   "execution_count": 107,
   "id": "99f71288",
   "metadata": {},
   "outputs": [],
   "source": [
    "# data normalization with sklearn\n",
    "from sklearn.preprocessing import MinMaxScaler\n",
    "\n",
    "# fit scaler on training data\n",
    "scaler = MinMaxScaler()\n",
    "\n",
    "# transform features (X)\n",
    "X_train = scaler.fit_transform(X_train)\n",
    "X_test = scaler.transform(X_test)"
   ]
  },
  {
   "cell_type": "markdown",
   "id": "667c32a4",
   "metadata": {},
   "source": [
    "## Modeling"
   ]
  },
  {
   "cell_type": "code",
   "execution_count": 15,
   "id": "bc374b28",
   "metadata": {},
   "outputs": [],
   "source": [
    "#!pip install coral-ordinal"
   ]
  },
  {
   "cell_type": "code",
   "execution_count": 108,
   "id": "98a73766",
   "metadata": {},
   "outputs": [
    {
     "name": "stdout",
     "output_type": "stream",
     "text": [
      "Tensorflow version 2.7.0\n",
      "CORAL Ordinal version: 0.1.8\n"
     ]
    }
   ],
   "source": [
    "import tensorflow as tf\n",
    "print(\"Tensorflow version\", tf.__version__)\n",
    "\n",
    "import coral_ordinal as coral\n",
    "print(\"CORAL Ordinal version:\", coral.__version__)"
   ]
  },
  {
   "cell_type": "markdown",
   "id": "b7ed0049",
   "metadata": {},
   "source": [
    "### Baseline Model\n",
    "\n",
    "As a baseline the first model I want to create is a single dense layer with the same dimensions of the number of parameters input. This is essentially equivalent to a basic classification model using logistic regression except I am converting the last layer to the number of classes in my outcome (4) and swapping out the loss function for the coral ordinal loss. I will build deeper models but this will be my baseline for a simple model for comparison."
   ]
  },
  {
   "cell_type": "code",
   "execution_count": 109,
   "id": "d76f3361",
   "metadata": {},
   "outputs": [],
   "source": [
    "def baseline_model(num_classes):\n",
    "\n",
    "    model = tf.keras.Sequential()\n",
    "    model.add(tf.keras.layers.Dense(34,input_shape=(34,)))\n",
    "    model.add(coral.CoralOrdinal(num_classes = num_classes))    \n",
    "\n",
    "    return model"
   ]
  },
  {
   "cell_type": "code",
   "execution_count": 110,
   "id": "9747037c",
   "metadata": {},
   "outputs": [],
   "source": [
    "base_model = baseline_model(4)"
   ]
  },
  {
   "cell_type": "code",
   "execution_count": 111,
   "id": "a2d19fc4",
   "metadata": {},
   "outputs": [],
   "source": [
    "base_model.compile(optimizer = tf.keras.optimizers.Adam(learning_rate = 0.05),\n",
    "              loss = coral.OrdinalCrossEntropy(num_classes = 4),\n",
    "              metrics = [coral.MeanAbsoluteErrorLabels()])"
   ]
  },
  {
   "cell_type": "code",
   "execution_count": 112,
   "id": "9d47eef4",
   "metadata": {},
   "outputs": [
    {
     "name": "stdout",
     "output_type": "stream",
     "text": [
      "Epoch 1/5\n",
      "931/937 [============================>.] - ETA: 0s - loss: 0.1320 - mean_absolute_error_labels: 0.0492WARNING:tensorflow:Early stopping conditioned on metric `val_loss` which is not available. Available metrics are: loss,mean_absolute_error_labels\n",
      "937/937 [==============================] - 1s 978us/step - loss: 0.1316 - mean_absolute_error_labels: 0.0491\n",
      "Epoch 2/5\n",
      "917/937 [============================>.] - ETA: 0s - loss: 0.0921 - mean_absolute_error_labels: 0.0313WARNING:tensorflow:Early stopping conditioned on metric `val_loss` which is not available. Available metrics are: loss,mean_absolute_error_labels\n",
      "937/937 [==============================] - 1s 827us/step - loss: 0.0925 - mean_absolute_error_labels: 0.0313\n",
      "Epoch 3/5\n",
      "871/937 [==========================>...] - ETA: 0s - loss: 0.0980 - mean_absolute_error_labels: 0.0325WARNING:tensorflow:Early stopping conditioned on metric `val_loss` which is not available. Available metrics are: loss,mean_absolute_error_labels\n",
      "937/937 [==============================] - 1s 806us/step - loss: 0.0977 - mean_absolute_error_labels: 0.0319\n",
      "Epoch 4/5\n",
      "934/937 [============================>.] - ETA: 0s - loss: 0.0977 - mean_absolute_error_labels: 0.0317WARNING:tensorflow:Early stopping conditioned on metric `val_loss` which is not available. Available metrics are: loss,mean_absolute_error_labels\n",
      "937/937 [==============================] - 1s 759us/step - loss: 0.0977 - mean_absolute_error_labels: 0.0317\n",
      "Epoch 5/5\n",
      "891/937 [===========================>..] - ETA: 0s - loss: 0.0930 - mean_absolute_error_labels: 0.0301WARNING:tensorflow:Early stopping conditioned on metric `val_loss` which is not available. Available metrics are: loss,mean_absolute_error_labels\n",
      "937/937 [==============================] - 1s 858us/step - loss: 0.0928 - mean_absolute_error_labels: 0.0302\n"
     ]
    }
   ],
   "source": [
    "history = base_model.fit(X_train, y_train, epochs = 5,\n",
    "                    callbacks = [tf.keras.callbacks.EarlyStopping(patience = 3, restore_best_weights = True)])"
   ]
  },
  {
   "cell_type": "markdown",
   "id": "3d8065e0",
   "metadata": {},
   "source": [
    "### Baseline Model Evaluation"
   ]
  },
  {
   "cell_type": "code",
   "execution_count": 113,
   "id": "b2d809e9",
   "metadata": {},
   "outputs": [
    {
     "name": "stdout",
     "output_type": "stream",
     "text": [
      "236/236 [==============================] - 0s 583us/step - loss: 0.1046 - mean_absolute_error_labels: 0.0233\n"
     ]
    },
    {
     "data": {
      "text/plain": [
       "[0.1046268418431282, 0.02330508455634117]"
      ]
     },
     "execution_count": 113,
     "metadata": {},
     "output_type": "execute_result"
    }
   ],
   "source": [
    "base_model.evaluate(X_test, y_test)"
   ]
  },
  {
   "cell_type": "code",
   "execution_count": 114,
   "id": "205022c4",
   "metadata": {},
   "outputs": [
    {
     "data": {
      "text/plain": [
       "(7529, 4)"
      ]
     },
     "execution_count": 114,
     "metadata": {},
     "output_type": "execute_result"
    }
   ],
   "source": [
    "# Note that these are ordinal (cumulative) logits, not probabilities or regular logits.\n",
    "base_ordinal_logits = base_model.predict(X_test)\n",
    "\n",
    "# Convert from logits to label probabilities. This is initially a tensorflow tensor.\n",
    "base_tensor_probs = coral.ordinal_softmax(base_ordinal_logits)\n",
    "\n",
    "# Convert the tensor into a pandas dataframe.\n",
    "base_probs_df = pd.DataFrame(base_tensor_probs.numpy())\n",
    "\n",
    "base_probs_df.shape"
   ]
  },
  {
   "cell_type": "markdown",
   "id": "60ade6de",
   "metadata": {},
   "source": [
    "Here we can see for each observation, the probability of the patient being in each state. I have also printed the first 10 rows the of actual state in the test set below. You can see that in choosing the state with the highest probability, for the first observation the predicted state would be 2 (ICU/VENT) and the actual outcome in the test set it also 2 therefore my model accurately predicted the first observation."
   ]
  },
  {
   "cell_type": "code",
   "execution_count": 115,
   "id": "9ff99607",
   "metadata": {},
   "outputs": [
    {
     "data": {
      "text/html": [
       "<div>\n",
       "<style scoped>\n",
       "    .dataframe tbody tr th:only-of-type {\n",
       "        vertical-align: middle;\n",
       "    }\n",
       "\n",
       "    .dataframe tbody tr th {\n",
       "        vertical-align: top;\n",
       "    }\n",
       "\n",
       "    .dataframe thead th {\n",
       "        text-align: right;\n",
       "    }\n",
       "</style>\n",
       "<table border=\"1\" class=\"dataframe\">\n",
       "  <thead>\n",
       "    <tr style=\"text-align: right;\">\n",
       "      <th></th>\n",
       "      <th>0</th>\n",
       "      <th>1</th>\n",
       "      <th>2</th>\n",
       "      <th>3</th>\n",
       "    </tr>\n",
       "  </thead>\n",
       "  <tbody>\n",
       "    <tr>\n",
       "      <th>0</th>\n",
       "      <td>0.00001</td>\n",
       "      <td>0.08683</td>\n",
       "      <td>0.91281</td>\n",
       "      <td>0.00034</td>\n",
       "    </tr>\n",
       "    <tr>\n",
       "      <th>1</th>\n",
       "      <td>0.00001</td>\n",
       "      <td>0.09067</td>\n",
       "      <td>0.90899</td>\n",
       "      <td>0.00033</td>\n",
       "    </tr>\n",
       "    <tr>\n",
       "      <th>2</th>\n",
       "      <td>0.00001</td>\n",
       "      <td>0.09466</td>\n",
       "      <td>0.90502</td>\n",
       "      <td>0.00031</td>\n",
       "    </tr>\n",
       "    <tr>\n",
       "      <th>3</th>\n",
       "      <td>0.06567</td>\n",
       "      <td>0.93265</td>\n",
       "      <td>0.00168</td>\n",
       "      <td>0.00000</td>\n",
       "    </tr>\n",
       "    <tr>\n",
       "      <th>4</th>\n",
       "      <td>0.99750</td>\n",
       "      <td>0.00250</td>\n",
       "      <td>0.00000</td>\n",
       "      <td>0.00000</td>\n",
       "    </tr>\n",
       "    <tr>\n",
       "      <th>5</th>\n",
       "      <td>0.99762</td>\n",
       "      <td>0.00238</td>\n",
       "      <td>0.00000</td>\n",
       "      <td>0.00000</td>\n",
       "    </tr>\n",
       "    <tr>\n",
       "      <th>6</th>\n",
       "      <td>0.99773</td>\n",
       "      <td>0.00227</td>\n",
       "      <td>0.00000</td>\n",
       "      <td>0.00000</td>\n",
       "    </tr>\n",
       "    <tr>\n",
       "      <th>7</th>\n",
       "      <td>0.99783</td>\n",
       "      <td>0.00217</td>\n",
       "      <td>0.00000</td>\n",
       "      <td>0.00000</td>\n",
       "    </tr>\n",
       "    <tr>\n",
       "      <th>8</th>\n",
       "      <td>0.99793</td>\n",
       "      <td>0.00207</td>\n",
       "      <td>0.00000</td>\n",
       "      <td>0.00000</td>\n",
       "    </tr>\n",
       "    <tr>\n",
       "      <th>9</th>\n",
       "      <td>0.99803</td>\n",
       "      <td>0.00197</td>\n",
       "      <td>0.00000</td>\n",
       "      <td>0.00000</td>\n",
       "    </tr>\n",
       "  </tbody>\n",
       "</table>\n",
       "</div>"
      ],
      "text/plain": [
       "        0       1       2       3\n",
       "0 0.00001 0.08683 0.91281 0.00034\n",
       "1 0.00001 0.09067 0.90899 0.00033\n",
       "2 0.00001 0.09466 0.90502 0.00031\n",
       "3 0.06567 0.93265 0.00168 0.00000\n",
       "4 0.99750 0.00250 0.00000 0.00000\n",
       "5 0.99762 0.00238 0.00000 0.00000\n",
       "6 0.99773 0.00227 0.00000 0.00000\n",
       "7 0.99783 0.00217 0.00000 0.00000\n",
       "8 0.99793 0.00207 0.00000 0.00000\n",
       "9 0.99803 0.00197 0.00000 0.00000"
      ]
     },
     "execution_count": 115,
     "metadata": {},
     "output_type": "execute_result"
    }
   ],
   "source": [
    "base_probs_df.head(10)"
   ]
  },
  {
   "cell_type": "code",
   "execution_count": 116,
   "id": "0bfc596d",
   "metadata": {},
   "outputs": [
    {
     "data": {
      "text/plain": [
       "array([2, 2, 1, 0, 0, 0, 0, 0, 0, 0])"
      ]
     },
     "execution_count": 116,
     "metadata": {},
     "output_type": "execute_result"
    }
   ],
   "source": [
    "y_test[0:10]"
   ]
  },
  {
   "cell_type": "markdown",
   "id": "ce005fad",
   "metadata": {},
   "source": [
    "Now I want to look at some different metrics to see how well my model performed on the test set. First I look at the overall accuracy of the percentage of outcomes my model predicted correctly. \n",
    "\n",
    "Using the method of classification, I would just take the overall percentage of observations my model predicted accurately. As shown below this measure is 97% which is really great. However, because my outcomes are ordinal, there is a larger penalty for some erros versus others which is not measured in this metric."
   ]
  },
  {
   "cell_type": "code",
   "execution_count": 117,
   "id": "d7942a74",
   "metadata": {},
   "outputs": [
    {
     "name": "stdout",
     "output_type": "stream",
     "text": [
      "Accuracy of label (normal classification method): 0.9775534599548413\n"
     ]
    }
   ],
   "source": [
    "# Evaluate accuracy and mean absolute error\n",
    "base_labels = base_probs_df.idxmax(axis = 1)\n",
    "print(\"Accuracy of label (normal classification method):\", np.mean(base_labels == y_test))"
   ]
  },
  {
   "cell_type": "markdown",
   "id": "3d157c06",
   "metadata": {},
   "source": [
    "The COinsisten RAnk Logits (CORAL) method addresses rank inconsistency and therefore I will use their version of metrics instead. Rather than choosing the outcome as the highest probable state, I take the probability of being greater than each state (logit-based cumulative probs) and sum each that is higher than 0.5. For example, if the probability not being home, P(Y > 0), is greater than 0.5 AND P(Y > 1) > 0.5 but P(Y > 2) < 0.5, the predicted outcome would be 2. \n",
    "\n",
    "The accuracy using the cumulative probabilities, is 97.5%."
   ]
  },
  {
   "cell_type": "code",
   "execution_count": 118,
   "id": "59c40a25",
   "metadata": {},
   "outputs": [
    {
     "data": {
      "text/html": [
       "<div>\n",
       "<style scoped>\n",
       "    .dataframe tbody tr th:only-of-type {\n",
       "        vertical-align: middle;\n",
       "    }\n",
       "\n",
       "    .dataframe tbody tr th {\n",
       "        vertical-align: top;\n",
       "    }\n",
       "\n",
       "    .dataframe thead th {\n",
       "        text-align: right;\n",
       "    }\n",
       "</style>\n",
       "<table border=\"1\" class=\"dataframe\">\n",
       "  <thead>\n",
       "    <tr style=\"text-align: right;\">\n",
       "      <th></th>\n",
       "      <th>0</th>\n",
       "      <th>1</th>\n",
       "      <th>2</th>\n",
       "    </tr>\n",
       "  </thead>\n",
       "  <tbody>\n",
       "    <tr>\n",
       "      <th>0</th>\n",
       "      <td>0.99999</td>\n",
       "      <td>0.91316</td>\n",
       "      <td>0.00034</td>\n",
       "    </tr>\n",
       "    <tr>\n",
       "      <th>1</th>\n",
       "      <td>0.99999</td>\n",
       "      <td>0.90932</td>\n",
       "      <td>0.00033</td>\n",
       "    </tr>\n",
       "    <tr>\n",
       "      <th>2</th>\n",
       "      <td>0.99999</td>\n",
       "      <td>0.90533</td>\n",
       "      <td>0.00031</td>\n",
       "    </tr>\n",
       "    <tr>\n",
       "      <th>3</th>\n",
       "      <td>0.93433</td>\n",
       "      <td>0.00168</td>\n",
       "      <td>0.00000</td>\n",
       "    </tr>\n",
       "    <tr>\n",
       "      <th>4</th>\n",
       "      <td>0.00250</td>\n",
       "      <td>0.00000</td>\n",
       "      <td>0.00000</td>\n",
       "    </tr>\n",
       "  </tbody>\n",
       "</table>\n",
       "</div>"
      ],
      "text/plain": [
       "        0       1       2\n",
       "0 0.99999 0.91316 0.00034\n",
       "1 0.99999 0.90932 0.00033\n",
       "2 0.99999 0.90533 0.00031\n",
       "3 0.93433 0.00168 0.00000\n",
       "4 0.00250 0.00000 0.00000"
      ]
     },
     "execution_count": 118,
     "metadata": {},
     "output_type": "execute_result"
    }
   ],
   "source": [
    "from scipy import special\n",
    "\n",
    "# Compare to logit-based cumulative probs\n",
    "base_cum_probs = pd.DataFrame(base_ordinal_logits).apply(special.expit)\n",
    "base_cum_probs.head()"
   ]
  },
  {
   "cell_type": "code",
   "execution_count": 119,
   "id": "8c6f187c",
   "metadata": {},
   "outputs": [
    {
     "name": "stdout",
     "output_type": "stream",
     "text": [
      "Accuracy of label: 0.9775534599548413\n"
     ]
    }
   ],
   "source": [
    "# Calculate the labels using the style of Cao et al.\n",
    "base_labels = base_cum_probs.apply(lambda x: x > 0.5).sum(axis = 1)\n",
    "print(\"Accuracy of label:\", np.mean(base_labels == y_test))"
   ]
  },
  {
   "cell_type": "markdown",
   "id": "70fd9417",
   "metadata": {},
   "source": [
    "I have also calculated the Mean absolute error and the root mean squared label error. For ordinal labels, these measures take into account the fact that some errors are worse than others. For example, predicting someone is at home and healthy when they actually died is much worse than predicting someone is at home and healthy when they are in fact in the hospital. Ordinal outcomes that are more 2 levels apart will have an error of 2 for an incorrect prediction and an incorrect prediction of one level difference in state will have an error of 1 for that observation."
   ]
  },
  {
   "cell_type": "code",
   "execution_count": 120,
   "id": "4a9a1e59",
   "metadata": {},
   "outputs": [
    {
     "name": "stdout",
     "output_type": "stream",
     "text": [
      "Mean absolute label error: 0.023376278390224464\n",
      "Root mean squared label error: 0.16052113298466106\n"
     ]
    }
   ],
   "source": [
    "print(\"Mean absolute label error:\", np.mean(np.abs(base_labels - y_test)))\n",
    "print(\"Root mean squared label error:\", np.sqrt(np.mean(np.square(base_labels - y_test))))"
   ]
  },
  {
   "cell_type": "code",
   "execution_count": 121,
   "id": "9e69aae6",
   "metadata": {},
   "outputs": [
    {
     "data": {
      "text/html": [
       "<div>\n",
       "<style scoped>\n",
       "    .dataframe tbody tr th:only-of-type {\n",
       "        vertical-align: middle;\n",
       "    }\n",
       "\n",
       "    .dataframe tbody tr th {\n",
       "        vertical-align: top;\n",
       "    }\n",
       "\n",
       "    .dataframe thead th {\n",
       "        text-align: right;\n",
       "    }\n",
       "</style>\n",
       "<table border=\"1\" class=\"dataframe\">\n",
       "  <thead>\n",
       "    <tr style=\"text-align: right;\">\n",
       "      <th></th>\n",
       "      <th>true</th>\n",
       "      <th>pred</th>\n",
       "      <th>abs</th>\n",
       "    </tr>\n",
       "  </thead>\n",
       "  <tbody>\n",
       "    <tr>\n",
       "      <th>0</th>\n",
       "      <td>2</td>\n",
       "      <td>2</td>\n",
       "      <td>0</td>\n",
       "    </tr>\n",
       "    <tr>\n",
       "      <th>1</th>\n",
       "      <td>2</td>\n",
       "      <td>2</td>\n",
       "      <td>0</td>\n",
       "    </tr>\n",
       "    <tr>\n",
       "      <th>2</th>\n",
       "      <td>1</td>\n",
       "      <td>2</td>\n",
       "      <td>1</td>\n",
       "    </tr>\n",
       "    <tr>\n",
       "      <th>3</th>\n",
       "      <td>0</td>\n",
       "      <td>1</td>\n",
       "      <td>1</td>\n",
       "    </tr>\n",
       "    <tr>\n",
       "      <th>4</th>\n",
       "      <td>0</td>\n",
       "      <td>0</td>\n",
       "      <td>0</td>\n",
       "    </tr>\n",
       "  </tbody>\n",
       "</table>\n",
       "</div>"
      ],
      "text/plain": [
       "   true  pred  abs\n",
       "0     2     2    0\n",
       "1     2     2    0\n",
       "2     1     2    1\n",
       "3     0     1    1\n",
       "4     0     0    0"
      ]
     },
     "execution_count": 121,
     "metadata": {},
     "output_type": "execute_result"
    }
   ],
   "source": [
    "# Review how absolute error is calculated for ordinal labels\n",
    "pd.DataFrame({\"true\": y_test, \"pred\": base_labels, \"abs\": base_labels - y_test}).head()"
   ]
  },
  {
   "cell_type": "markdown",
   "id": "a2203f5d",
   "metadata": {},
   "source": [
    "## Feature Importance\n",
    "\n",
    "Now that I have a model that has great predictive performance, I want to understand the importance of the features I am inputting into the model. A main goal of this analysis is to understand how body composition affects outcomes of liver transplants and to do that I need to understand if any of the body composition variables are important in my model.\n",
    "\n",
    "First, since I only have one dense layer in my model, I can look at the weights at that layer to get an understanding of how they are distributed. There are 35 weights, the same number as inputs into my model as this is a fully connected layer, but unfortunately these values don't do me much good as I don't know which features go into each weight."
   ]
  },
  {
   "cell_type": "code",
   "execution_count": 122,
   "id": "963ee492",
   "metadata": {},
   "outputs": [],
   "source": [
    "for layer in base_model.layers:\n",
    "    weights = layer.get_weights()"
   ]
  },
  {
   "cell_type": "code",
   "execution_count": 123,
   "id": "3ca20280",
   "metadata": {},
   "outputs": [
    {
     "data": {
      "text/plain": [
       "array([[-1.12242941e-02],\n",
       "       [-3.81611064e-02],\n",
       "       [ 7.17535317e-02],\n",
       "       [-4.56627980e-02],\n",
       "       [ 3.21011096e-02],\n",
       "       [ 1.93664432e-03],\n",
       "       [ 4.93597705e-03],\n",
       "       [-9.76726040e-02],\n",
       "       [ 1.18743833e-02],\n",
       "       [-3.47232334e-02],\n",
       "       [-7.88730323e-01],\n",
       "       [ 5.52881062e-02],\n",
       "       [-6.07928820e-02],\n",
       "       [-1.24353975e-01],\n",
       "       [-3.37276310e-02],\n",
       "       [ 2.64221709e-03],\n",
       "       [-2.54964791e-02],\n",
       "       [-3.25160772e-01],\n",
       "       [ 1.44412117e-02],\n",
       "       [ 4.81006913e-02],\n",
       "       [-4.21201885e-02],\n",
       "       [ 1.96752585e-02],\n",
       "       [ 1.77801084e-02],\n",
       "       [ 6.87338226e-03],\n",
       "       [-8.41257274e-02],\n",
       "       [-5.44110406e-03],\n",
       "       [-2.24084109e-02],\n",
       "       [-7.22623840e-02],\n",
       "       [-3.92990001e-03],\n",
       "       [ 3.76711696e-01],\n",
       "       [ 3.65635425e-01],\n",
       "       [-9.42840651e-02],\n",
       "       [ 3.08318269e-02],\n",
       "       [ 2.91180331e-04]], dtype=float32)"
      ]
     },
     "execution_count": 123,
     "metadata": {},
     "output_type": "execute_result"
    }
   ],
   "source": [
    "weights[0]"
   ]
  },
  {
   "cell_type": "markdown",
   "id": "9ab41ce2",
   "metadata": {},
   "source": [
    "From the correlation matrix above, I can already see that there isn't a strong correlation between state and any of the body composition variables. This however is a correlation matrix over the entire dataset of 90 days per patient. To understand importance of features, I am going to hold time constant at day 10."
   ]
  },
  {
   "cell_type": "code",
   "execution_count": 124,
   "id": "21bfd4cb",
   "metadata": {},
   "outputs": [
    {
     "data": {
      "text/plain": [
       "<AxesSubplot:>"
      ]
     },
     "execution_count": 124,
     "metadata": {},
     "output_type": "execute_result"
    },
    {
     "data": {
      "image/png": "[encoded data removed]",
      "text/plain": [
       "<Figure size 1080x576 with 2 Axes>"
      ]
     },
     "metadata": {},
     "output_type": "display_data"
    }
   ],
   "source": [
    "df_10 = df[df['time'] == 10]\n",
    "df_10_body = df_10[['state', 'sma00', 'vat00', 'sat00', 's_mhu00', 'v_fhu00', 'sa_thu00']]\n",
    "\n",
    "corr = df_10_body.corr()\n",
    "sns.set(rc = {'figure.figsize':(15,8)})\n",
    "sns.heatmap(corr, \n",
    "xticklabels=corr.columns.values,\n",
    "yticklabels=corr.columns.values,\n",
    "           linewidths=.005,\n",
    "           annot=True)"
   ]
  },
  {
   "cell_type": "markdown",
   "id": "7d88d545",
   "metadata": {},
   "source": [
    "After filtering for only body composition variables, it is a bit easier to see how they correlate with a patient's state at day 10 post liver transplant surgery. Here we can see that state doesn't correlate highly with an body composition variable. The highest correlation is with skeletal muscle density (s_mhu00) which is a negative correlation of -0.27. This is still a fairly weak correlation. \n",
    "\n",
    "I want to do the same analysis at day 5 and at day 30 to see if the trends change with a different time period."
   ]
  },
  {
   "cell_type": "code",
   "execution_count": 125,
   "id": "d3abcd88",
   "metadata": {},
   "outputs": [
    {
     "data": {
      "text/plain": [
       "<AxesSubplot:>"
      ]
     },
     "execution_count": 125,
     "metadata": {},
     "output_type": "execute_result"
    },
    {
     "data": {
      "image/png": "[encoded data removed]",
      "text/plain": [
       "<Figure size 1080x576 with 2 Axes>"
      ]
     },
     "metadata": {},
     "output_type": "display_data"
    }
   ],
   "source": [
    "df_5 = df[df['time'] == 5]\n",
    "df_5_body = df_5[['state', 'sma00', 'vat00', 'sat00', 's_mhu00', 'v_fhu00', 'sa_thu00']]\n",
    "\n",
    "corr = df_5_body.corr()\n",
    "sns.set(rc = {'figure.figsize':(15,8)})\n",
    "sns.heatmap(corr, \n",
    "xticklabels=corr.columns.values,\n",
    "yticklabels=corr.columns.values,\n",
    "           linewidths=.005,\n",
    "           annot=True)"
   ]
  },
  {
   "cell_type": "code",
   "execution_count": 126,
   "id": "52af433d",
   "metadata": {},
   "outputs": [
    {
     "data": {
      "text/plain": [
       "<AxesSubplot:>"
      ]
     },
     "execution_count": 126,
     "metadata": {},
     "output_type": "execute_result"
    },
    {
     "data": {
      "image/png": "[encoded data removed]",
      "text/plain": [
       "<Figure size 1080x576 with 2 Axes>"
      ]
     },
     "metadata": {},
     "output_type": "display_data"
    }
   ],
   "source": [
    "df_30 = df[df['time'] == 30]\n",
    "df_30_body = df_30[['state', 'sma00', 'vat00', 'sat00', 's_mhu00', 'v_fhu00', 'sa_thu00']]\n",
    "\n",
    "corr = df_30_body.corr()\n",
    "sns.set(rc = {'figure.figsize':(15,8)})\n",
    "sns.heatmap(corr, \n",
    "xticklabels=corr.columns.values,\n",
    "yticklabels=corr.columns.values,\n",
    "           linewidths=.005,\n",
    "           annot=True)"
   ]
  },
  {
   "cell_type": "markdown",
   "id": "2131c6e4",
   "metadata": {},
   "source": [
    "The correlations do not change very much for each of the different time periods. There are slight differences, but with only 422 patients this can easily be due to sample variation and is not by any significant amount."
   ]
  },
  {
   "cell_type": "code",
   "execution_count": 81,
   "id": "030f40d9",
   "metadata": {},
   "outputs": [
    {
     "data": {
      "text/html": [
       "<div>\n",
       "<style scoped>\n",
       "    .dataframe tbody tr th:only-of-type {\n",
       "        vertical-align: middle;\n",
       "    }\n",
       "\n",
       "    .dataframe tbody tr th {\n",
       "        vertical-align: top;\n",
       "    }\n",
       "\n",
       "    .dataframe thead th {\n",
       "        text-align: right;\n",
       "    }\n",
       "</style>\n",
       "<table border=\"1\" class=\"dataframe\">\n",
       "  <thead>\n",
       "    <tr style=\"text-align: right;\">\n",
       "      <th></th>\n",
       "      <th>0</th>\n",
       "      <th>1</th>\n",
       "      <th>2</th>\n",
       "      <th>3</th>\n",
       "    </tr>\n",
       "  </thead>\n",
       "  <tbody>\n",
       "    <tr>\n",
       "      <th>0</th>\n",
       "      <td>0.000024</td>\n",
       "      <td>0.316687</td>\n",
       "      <td>6.832533e-01</td>\n",
       "      <td>3.548560e-05</td>\n",
       "    </tr>\n",
       "    <tr>\n",
       "      <th>1</th>\n",
       "      <td>0.000025</td>\n",
       "      <td>0.327049</td>\n",
       "      <td>6.728917e-01</td>\n",
       "      <td>3.384013e-05</td>\n",
       "    </tr>\n",
       "    <tr>\n",
       "      <th>2</th>\n",
       "      <td>0.000026</td>\n",
       "      <td>0.337583</td>\n",
       "      <td>6.623586e-01</td>\n",
       "      <td>3.227093e-05</td>\n",
       "    </tr>\n",
       "    <tr>\n",
       "      <th>3</th>\n",
       "      <td>0.157226</td>\n",
       "      <td>0.842496</td>\n",
       "      <td>2.781703e-04</td>\n",
       "      <td>4.576456e-09</td>\n",
       "    </tr>\n",
       "    <tr>\n",
       "      <th>4</th>\n",
       "      <td>0.999240</td>\n",
       "      <td>0.000760</td>\n",
       "      <td>3.945750e-08</td>\n",
       "      <td>6.490053e-13</td>\n",
       "    </tr>\n",
       "    <tr>\n",
       "      <th>...</th>\n",
       "      <td>...</td>\n",
       "      <td>...</td>\n",
       "      <td>...</td>\n",
       "      <td>...</td>\n",
       "    </tr>\n",
       "    <tr>\n",
       "      <th>7524</th>\n",
       "      <td>0.999984</td>\n",
       "      <td>0.000016</td>\n",
       "      <td>8.385935e-10</td>\n",
       "      <td>1.379336e-14</td>\n",
       "    </tr>\n",
       "    <tr>\n",
       "      <th>7525</th>\n",
       "      <td>0.999985</td>\n",
       "      <td>0.000015</td>\n",
       "      <td>7.997062e-10</td>\n",
       "      <td>1.315374e-14</td>\n",
       "    </tr>\n",
       "    <tr>\n",
       "      <th>7526</th>\n",
       "      <td>0.999985</td>\n",
       "      <td>0.000015</td>\n",
       "      <td>7.626252e-10</td>\n",
       "      <td>1.254382e-14</td>\n",
       "    </tr>\n",
       "    <tr>\n",
       "      <th>7527</th>\n",
       "      <td>0.999986</td>\n",
       "      <td>0.000014</td>\n",
       "      <td>7.272595e-10</td>\n",
       "      <td>1.196214e-14</td>\n",
       "    </tr>\n",
       "    <tr>\n",
       "      <th>7528</th>\n",
       "      <td>0.999987</td>\n",
       "      <td>0.000013</td>\n",
       "      <td>6.935364e-10</td>\n",
       "      <td>1.140743e-14</td>\n",
       "    </tr>\n",
       "  </tbody>\n",
       "</table>\n",
       "<p>7529 rows × 4 columns</p>\n",
       "</div>"
      ],
      "text/plain": [
       "             0         1             2             3\n",
       "0     0.000024  0.316687  6.832533e-01  3.548560e-05\n",
       "1     0.000025  0.327049  6.728917e-01  3.384013e-05\n",
       "2     0.000026  0.337583  6.623586e-01  3.227093e-05\n",
       "3     0.157226  0.842496  2.781703e-04  4.576456e-09\n",
       "4     0.999240  0.000760  3.945750e-08  6.490053e-13\n",
       "...        ...       ...           ...           ...\n",
       "7524  0.999984  0.000016  8.385935e-10  1.379336e-14\n",
       "7525  0.999985  0.000015  7.997062e-10  1.315374e-14\n",
       "7526  0.999985  0.000015  7.626252e-10  1.254382e-14\n",
       "7527  0.999986  0.000014  7.272595e-10  1.196214e-14\n",
       "7528  0.999987  0.000013  6.935364e-10  1.140743e-14\n",
       "\n",
       "[7529 rows x 4 columns]"
      ]
     },
     "execution_count": 81,
     "metadata": {},
     "output_type": "execute_result"
    }
   ],
   "source": []
  }
 ],
 "metadata": {
  "kernelspec": {
   "display_name": "Python 3",
   "language": "python",
   "name": "python3"
  },
  "language_info": {
   "codemirror_mode": {
    "name": "ipython",
    "version": 3
   },
   "file_extension": ".py",
   "mimetype": "text/x-python",
   "name": "python",
   "nbconvert_exporter": "python",
   "pygments_lexer": "ipython3",
   "version": "3.8.8"
  }
 },
 "nbformat": 4,
 "nbformat_minor": 5
}
