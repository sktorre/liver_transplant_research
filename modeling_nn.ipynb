{
 "cells": [
  {
   "cell_type": "markdown",
   "id": "675701a8",
   "metadata": {},
   "source": [
    "## Reading in the data"
   ]
  },
  {
   "cell_type": "code",
   "execution_count": 6,
   "id": "7a409c95",
   "metadata": {},
   "outputs": [],
   "source": [
    "#!pip install boxsdk"
   ]
  },
  {
   "cell_type": "code",
   "execution_count": 1,
   "id": "9ad2f6e1",
   "metadata": {},
   "outputs": [],
   "source": [
    "# Import two classes from the boxsdk module - Client and OAuth2\n",
    "from boxsdk import Client, OAuth2\n",
    "\n",
    "import pandas as pd\n",
    "import io\n",
    "import numpy as np\n",
    "\n",
    "# Read app info from text file\n",
    "with open('app.cfg', 'r') as app_cfg:\n",
    "    CLIENT_ID = app_cfg.readline()\n",
    "    CLIENT_SECRET = app_cfg.readline()\n",
    "    ACCESS_TOKEN = app_cfg.readline()"
   ]
  },
  {
   "cell_type": "code",
   "execution_count": 2,
   "id": "352293ea",
   "metadata": {},
   "outputs": [],
   "source": [
    "class BOXFile:\n",
    " def __init__(self, CLIENT_ID, CLIENT_SECRET, ACCESS_TOKEN):\n",
    "     self._oauth2 = OAuth2(CLIENT_ID, CLIENT_SECRET, access_token=ACCESS_TOKEN)\n",
    "     self._client = Client(self._oauth2)\n",
    "     self._file = None\n",
    " \n",
    " def GetUserInfo(self):\n",
    "     my = self._client.user(user_id='me').get()\n",
    "\n",
    " def GetFile(self, fileID):\n",
    "     self._file = self._client.file(fileID)\n",
    "     return(self._file.content())"
   ]
  },
  {
   "cell_type": "code",
   "execution_count": 3,
   "id": "f25570fc",
   "metadata": {},
   "outputs": [],
   "source": [
    "boxfile = BOXFile(CLIENT_ID, CLIENT_SECRET, ACCESS_TOKEN)\n",
    "csvFile = boxfile.GetFile('936748103348').decode(\"utf-8\")\n",
    "ioFile = io.StringIO(csvFile)"
   ]
  },
  {
   "cell_type": "code",
   "execution_count": 4,
   "id": "4f019084",
   "metadata": {},
   "outputs": [
    {
     "data": {
      "text/html": [
       "<div>\n",
       "<style scoped>\n",
       "    .dataframe tbody tr th:only-of-type {\n",
       "        vertical-align: middle;\n",
       "    }\n",
       "\n",
       "    .dataframe tbody tr th {\n",
       "        vertical-align: top;\n",
       "    }\n",
       "\n",
       "    .dataframe thead th {\n",
       "        text-align: right;\n",
       "    }\n",
       "</style>\n",
       "<table border=\"1\" class=\"dataframe\">\n",
       "  <thead>\n",
       "    <tr style=\"text-align: right;\">\n",
       "      <th></th>\n",
       "      <th>patient_mrn</th>\n",
       "      <th>ctd</th>\n",
       "      <th>age</th>\n",
       "      <th>height</th>\n",
       "      <th>weight</th>\n",
       "      <th>ascites_yn</th>\n",
       "      <th>he</th>\n",
       "      <th>race</th>\n",
       "      <th>sex</th>\n",
       "      <th>smoker</th>\n",
       "      <th>...</th>\n",
       "      <th>sa_thu00</th>\n",
       "      <th>biliarycomplication</th>\n",
       "      <th>location_dc</th>\n",
       "      <th>dayson_ventpost_lt</th>\n",
       "      <th>htn</th>\n",
       "      <th>dm</th>\n",
       "      <th>ckd</th>\n",
       "      <th>state</th>\n",
       "      <th>time</th>\n",
       "      <th>prev_state</th>\n",
       "    </tr>\n",
       "  </thead>\n",
       "  <tbody>\n",
       "    <tr>\n",
       "      <th>0</th>\n",
       "      <td>3156866</td>\n",
       "      <td>0</td>\n",
       "      <td>57</td>\n",
       "      <td>162.6</td>\n",
       "      <td>80.2</td>\n",
       "      <td>2</td>\n",
       "      <td>2</td>\n",
       "      <td>1</td>\n",
       "      <td>2</td>\n",
       "      <td>1</td>\n",
       "      <td>...</td>\n",
       "      <td>-85.5392</td>\n",
       "      <td>1</td>\n",
       "      <td>2</td>\n",
       "      <td>0</td>\n",
       "      <td>4</td>\n",
       "      <td>2</td>\n",
       "      <td>2</td>\n",
       "      <td>3</td>\n",
       "      <td>1</td>\n",
       "      <td>0</td>\n",
       "    </tr>\n",
       "    <tr>\n",
       "      <th>1</th>\n",
       "      <td>3156866</td>\n",
       "      <td>0</td>\n",
       "      <td>57</td>\n",
       "      <td>162.6</td>\n",
       "      <td>80.2</td>\n",
       "      <td>2</td>\n",
       "      <td>2</td>\n",
       "      <td>1</td>\n",
       "      <td>2</td>\n",
       "      <td>1</td>\n",
       "      <td>...</td>\n",
       "      <td>-85.5392</td>\n",
       "      <td>1</td>\n",
       "      <td>2</td>\n",
       "      <td>0</td>\n",
       "      <td>4</td>\n",
       "      <td>2</td>\n",
       "      <td>2</td>\n",
       "      <td>3</td>\n",
       "      <td>2</td>\n",
       "      <td>3</td>\n",
       "    </tr>\n",
       "    <tr>\n",
       "      <th>2</th>\n",
       "      <td>3156866</td>\n",
       "      <td>0</td>\n",
       "      <td>57</td>\n",
       "      <td>162.6</td>\n",
       "      <td>80.2</td>\n",
       "      <td>2</td>\n",
       "      <td>2</td>\n",
       "      <td>1</td>\n",
       "      <td>2</td>\n",
       "      <td>1</td>\n",
       "      <td>...</td>\n",
       "      <td>-85.5392</td>\n",
       "      <td>1</td>\n",
       "      <td>2</td>\n",
       "      <td>0</td>\n",
       "      <td>4</td>\n",
       "      <td>2</td>\n",
       "      <td>2</td>\n",
       "      <td>3</td>\n",
       "      <td>3</td>\n",
       "      <td>3</td>\n",
       "    </tr>\n",
       "    <tr>\n",
       "      <th>3</th>\n",
       "      <td>3156866</td>\n",
       "      <td>0</td>\n",
       "      <td>57</td>\n",
       "      <td>162.6</td>\n",
       "      <td>80.2</td>\n",
       "      <td>2</td>\n",
       "      <td>2</td>\n",
       "      <td>1</td>\n",
       "      <td>2</td>\n",
       "      <td>1</td>\n",
       "      <td>...</td>\n",
       "      <td>-85.5392</td>\n",
       "      <td>1</td>\n",
       "      <td>2</td>\n",
       "      <td>0</td>\n",
       "      <td>4</td>\n",
       "      <td>2</td>\n",
       "      <td>2</td>\n",
       "      <td>3</td>\n",
       "      <td>4</td>\n",
       "      <td>3</td>\n",
       "    </tr>\n",
       "    <tr>\n",
       "      <th>4</th>\n",
       "      <td>3156866</td>\n",
       "      <td>0</td>\n",
       "      <td>57</td>\n",
       "      <td>162.6</td>\n",
       "      <td>80.2</td>\n",
       "      <td>2</td>\n",
       "      <td>2</td>\n",
       "      <td>1</td>\n",
       "      <td>2</td>\n",
       "      <td>1</td>\n",
       "      <td>...</td>\n",
       "      <td>-85.5392</td>\n",
       "      <td>1</td>\n",
       "      <td>2</td>\n",
       "      <td>0</td>\n",
       "      <td>4</td>\n",
       "      <td>2</td>\n",
       "      <td>2</td>\n",
       "      <td>3</td>\n",
       "      <td>5</td>\n",
       "      <td>3</td>\n",
       "    </tr>\n",
       "  </tbody>\n",
       "</table>\n",
       "<p>5 rows × 36 columns</p>\n",
       "</div>"
      ],
      "text/plain": [
       "   patient_mrn  ctd  age  height  weight  ascites_yn  he  race  sex  smoker  \\\n",
       "0      3156866    0   57   162.6    80.2           2   2     1    2       1   \n",
       "1      3156866    0   57   162.6    80.2           2   2     1    2       1   \n",
       "2      3156866    0   57   162.6    80.2           2   2     1    2       1   \n",
       "3      3156866    0   57   162.6    80.2           2   2     1    2       1   \n",
       "4      3156866    0   57   162.6    80.2           2   2     1    2       1   \n",
       "\n",
       "   ...  sa_thu00  biliarycomplication  location_dc  dayson_ventpost_lt  htn  \\\n",
       "0  ...  -85.5392                    1            2                   0    4   \n",
       "1  ...  -85.5392                    1            2                   0    4   \n",
       "2  ...  -85.5392                    1            2                   0    4   \n",
       "3  ...  -85.5392                    1            2                   0    4   \n",
       "4  ...  -85.5392                    1            2                   0    4   \n",
       "\n",
       "   dm  ckd  state  time  prev_state  \n",
       "0   2    2      3     1           0  \n",
       "1   2    2      3     2           3  \n",
       "2   2    2      3     3           3  \n",
       "3   2    2      3     4           3  \n",
       "4   2    2      3     5           3  \n",
       "\n",
       "[5 rows x 36 columns]"
      ]
     },
     "execution_count": 4,
     "metadata": {},
     "output_type": "execute_result"
    }
   ],
   "source": [
    "df = pd.read_csv(filepath_or_buffer = ioFile, delimiter = \",\")\n",
    "df.head()"
   ]
  },
  {
   "cell_type": "code",
   "execution_count": 5,
   "id": "a8402c0e",
   "metadata": {},
   "outputs": [
    {
     "data": {
      "text/plain": [
       "(27430, 36)"
      ]
     },
     "execution_count": 5,
     "metadata": {},
     "output_type": "execute_result"
    }
   ],
   "source": [
    "df.shape"
   ]
  },
  {
   "cell_type": "code",
   "execution_count": 6,
   "id": "602b920d",
   "metadata": {},
   "outputs": [
    {
     "data": {
      "text/plain": [
       "patient_mrn                          0\n",
       "ctd                                  0\n",
       "age                                  0\n",
       "height                               0\n",
       "weight                               0\n",
       "ascites_yn                           0\n",
       "he                                   0\n",
       "race                                 0\n",
       "sex                                  0\n",
       "smoker                               0\n",
       "cit                                  0\n",
       "dri                                  0\n",
       "etiology                             0\n",
       "meld                                 0\n",
       "acr                                  0\n",
       "newmalignancy                        0\n",
       "surgeryduration                      0\n",
       "readmissionwithin90d                 0\n",
       "infection_90                         0\n",
       "need_repeat_surgery                  0\n",
       "vascularcomplicationswithin90days    0\n",
       "sma00                                0\n",
       "vat00                                0\n",
       "sat00                                0\n",
       "s_mhu00                              0\n",
       "v_fhu00                              0\n",
       "sa_thu00                             0\n",
       "biliarycomplication                  0\n",
       "location_dc                          0\n",
       "dayson_ventpost_lt                   0\n",
       "htn                                  0\n",
       "dm                                   0\n",
       "ckd                                  0\n",
       "state                                0\n",
       "time                                 0\n",
       "prev_state                           0\n",
       "dtype: int64"
      ]
     },
     "execution_count": 6,
     "metadata": {},
     "output_type": "execute_result"
    }
   ],
   "source": [
    "df.isna().sum()"
   ]
  },
  {
   "cell_type": "markdown",
   "id": "bd9ee49d",
   "metadata": {},
   "source": [
    "### Data Splitting\n",
    "\n",
    "Data cleaning, feature selection, imputing missing values and data processing have all been done in R before reading the data into this notebook. The data however, is not split into training and testing or scaled for modeling.\n",
    "\n",
    "I need to split the data into separate training and testing data sets. Because the data originally was one observation per patient and I want to make sure all observations for each patient are in the same dat set, I will split the data based on patient_mrn."
   ]
  },
  {
   "cell_type": "code",
   "execution_count": 7,
   "id": "622042ad",
   "metadata": {},
   "outputs": [],
   "source": [
    "from sklearn.model_selection import train_test_split\n",
    "\n",
    "patients = df['patient_mrn'].unique()\n",
    "\n",
    "train_patients, test_patients = train_test_split(patients, test_size=0.2)"
   ]
  },
  {
   "cell_type": "code",
   "execution_count": 8,
   "id": "21b93765",
   "metadata": {},
   "outputs": [
    {
     "name": "stdout",
     "output_type": "stream",
     "text": [
      "(337,)\n",
      "(85,)\n"
     ]
    }
   ],
   "source": [
    "print(train_patients.shape)\n",
    "print(test_patients.shape)"
   ]
  },
  {
   "cell_type": "code",
   "execution_count": 9,
   "id": "35bdd7a7",
   "metadata": {},
   "outputs": [
    {
     "name": "stdout",
     "output_type": "stream",
     "text": [
      "(21905, 36)\n",
      "(5525, 36)\n"
     ]
    }
   ],
   "source": [
    "train = df[df[\"patient_mrn\"].isin(train_patients)]\n",
    "test = df[df[\"patient_mrn\"].isin(test_patients)]\n",
    "\n",
    "print(train.shape)\n",
    "print(test.shape)"
   ]
  },
  {
   "cell_type": "code",
   "execution_count": 10,
   "id": "8c7210dd",
   "metadata": {},
   "outputs": [],
   "source": [
    "X_train = train.drop(['state'], axis = 1)\n",
    "X_test = test.drop(['state'], axis = 1)\n",
    "y_train = train[['state']]\n",
    "y_test = test[['state']]\n",
    "\n",
    "y_test = y_test.reset_index(drop=True)\n",
    "y_train = y_train.reset_index(drop=True)"
   ]
  },
  {
   "cell_type": "code",
   "execution_count": 11,
   "id": "a5b051cd",
   "metadata": {},
   "outputs": [
    {
     "name": "stdout",
     "output_type": "stream",
     "text": [
      "(21905, 35)\n",
      "(5525, 35)\n",
      "(21905, 1)\n",
      "(5525, 1)\n"
     ]
    }
   ],
   "source": [
    "print(X_train.shape)\n",
    "print(X_test.shape)\n",
    "print(y_train.shape)\n",
    "print(y_test.shape)"
   ]
  },
  {
   "cell_type": "markdown",
   "id": "ec207f17",
   "metadata": {},
   "source": [
    "### Data Scaling\n",
    "\n",
    "Now that I have training and testing data sets, I need to scale the features to be between 0 and 1 in the training set and then use these scaling parameters to scale the test set. "
   ]
  },
  {
   "cell_type": "code",
   "execution_count": 12,
   "id": "99f71288",
   "metadata": {},
   "outputs": [],
   "source": [
    "# data normalization with sklearn\n",
    "from sklearn.preprocessing import MinMaxScaler\n",
    "\n",
    "# fit scaler on training data\n",
    "scaler = MinMaxScaler()\n",
    "\n",
    "# transform features (X)\n",
    "X_train = scaler.fit_transform(X_train)\n",
    "X_test = scaler.transform(X_test)"
   ]
  },
  {
   "cell_type": "code",
   "execution_count": 13,
   "id": "3588f61f",
   "metadata": {},
   "outputs": [
    {
     "data": {
      "text/plain": [
       "1    17282\n",
       "2     2998\n",
       "3     1406\n",
       "4      219\n",
       "Name: state, dtype: int64"
      ]
     },
     "execution_count": 13,
     "metadata": {},
     "output_type": "execute_result"
    }
   ],
   "source": [
    "y_train.state.value_counts()"
   ]
  },
  {
   "cell_type": "markdown",
   "id": "45059ab0",
   "metadata": {},
   "source": [
    "To use the coral ordinal model, the output states must start at 0 and they currently start at a value of 1. I need to subtract 1 from each state."
   ]
  },
  {
   "cell_type": "code",
   "execution_count": 14,
   "id": "6ed679cf",
   "metadata": {},
   "outputs": [
    {
     "name": "stdout",
     "output_type": "stream",
     "text": [
      "0    17282\n",
      "1     2998\n",
      "2     1406\n",
      "3      219\n",
      "Name: state, dtype: int64\n",
      "0    4453\n",
      "1     581\n",
      "2     446\n",
      "3      45\n",
      "Name: state, dtype: int64\n"
     ]
    }
   ],
   "source": [
    "y_train = (y_train.state - 1)\n",
    "y_test = (y_test.state - 1)\n",
    "\n",
    "print(y_train.value_counts())\n",
    "print(y_test.value_counts())"
   ]
  },
  {
   "cell_type": "code",
   "execution_count": 15,
   "id": "6531e39f",
   "metadata": {},
   "outputs": [
    {
     "name": "stdout",
     "output_type": "stream",
     "text": [
      "(21905, 35)\n",
      "(5525, 35)\n",
      "(21905,)\n",
      "(5525,)\n"
     ]
    }
   ],
   "source": [
    "print(X_train.shape)\n",
    "print(X_test.shape)\n",
    "print(y_train.shape)\n",
    "print(y_test.shape)"
   ]
  },
  {
   "cell_type": "markdown",
   "id": "667c32a4",
   "metadata": {},
   "source": [
    "## Modeling"
   ]
  },
  {
   "cell_type": "code",
   "execution_count": 15,
   "id": "bc374b28",
   "metadata": {},
   "outputs": [],
   "source": [
    "#!pip install coral-ordinal"
   ]
  },
  {
   "cell_type": "code",
   "execution_count": 16,
   "id": "98a73766",
   "metadata": {},
   "outputs": [
    {
     "name": "stdout",
     "output_type": "stream",
     "text": [
      "Tensorflow version 2.7.0\n",
      "CORAL Ordinal version: 0.1.8\n"
     ]
    }
   ],
   "source": [
    "import tensorflow as tf\n",
    "print(\"Tensorflow version\", tf.__version__)\n",
    "\n",
    "import coral_ordinal as coral\n",
    "print(\"CORAL Ordinal version:\", coral.__version__)"
   ]
  },
  {
   "cell_type": "code",
   "execution_count": 17,
   "id": "d76f3361",
   "metadata": {},
   "outputs": [],
   "source": [
    "def create_model(num_classes):\n",
    "\n",
    "    model = tf.keras.Sequential()\n",
    "    model.add(tf.keras.layers.Dense(32, activation = \"relu\"))\n",
    "    model.add(coral.CoralOrdinal(num_classes = num_classes))    \n",
    "\n",
    "    return model"
   ]
  },
  {
   "cell_type": "code",
   "execution_count": 18,
   "id": "9747037c",
   "metadata": {},
   "outputs": [],
   "source": [
    "model = create_model(4)\n",
    "#model.summary()"
   ]
  },
  {
   "cell_type": "code",
   "execution_count": 19,
   "id": "a2d19fc4",
   "metadata": {},
   "outputs": [],
   "source": [
    "model.compile(optimizer = tf.keras.optimizers.Adam(learning_rate = 0.05),\n",
    "              loss = coral.OrdinalCrossEntropy(num_classes = 4),\n",
    "              metrics = [coral.MeanAbsoluteErrorLabels()])"
   ]
  },
  {
   "cell_type": "code",
   "execution_count": 20,
   "id": "9d47eef4",
   "metadata": {},
   "outputs": [
    {
     "name": "stdout",
     "output_type": "stream",
     "text": [
      "Epoch 1/5\n",
      "650/685 [===========================>..] - ETA: 0s - loss: 0.4388 - mean_absolute_error_labels: 0.1486WARNING:tensorflow:Early stopping conditioned on metric `val_loss` which is not available. Available metrics are: loss,mean_absolute_error_labels\n",
      "685/685 [==============================] - 1s 780us/step - loss: 0.4364 - mean_absolute_error_labels: 0.1469\n",
      "Epoch 2/5\n",
      "644/685 [===========================>..] - ETA: 0s - loss: 0.3616 - mean_absolute_error_labels: 0.1058WARNING:tensorflow:Early stopping conditioned on metric `val_loss` which is not available. Available metrics are: loss,mean_absolute_error_labels\n",
      "685/685 [==============================] - 1s 784us/step - loss: 0.3597 - mean_absolute_error_labels: 0.1049\n",
      "Epoch 3/5\n",
      "654/685 [===========================>..] - ETA: 0s - loss: 0.3556 - mean_absolute_error_labels: 0.0993WARNING:tensorflow:Early stopping conditioned on metric `val_loss` which is not available. Available metrics are: loss,mean_absolute_error_labels\n",
      "685/685 [==============================] - 1s 776us/step - loss: 0.3547 - mean_absolute_error_labels: 0.0990\n",
      "Epoch 4/5\n",
      "651/685 [===========================>..] - ETA: 0s - loss: 0.3494 - mean_absolute_error_labels: 0.0963WARNING:tensorflow:Early stopping conditioned on metric `val_loss` which is not available. Available metrics are: loss,mean_absolute_error_labels\n",
      "685/685 [==============================] - 1s 780us/step - loss: 0.3512 - mean_absolute_error_labels: 0.0975\n",
      "Epoch 5/5\n",
      "658/685 [===========================>..] - ETA: 0s - loss: 0.3510 - mean_absolute_error_labels: 0.0976WARNING:tensorflow:Early stopping conditioned on metric `val_loss` which is not available. Available metrics are: loss,mean_absolute_error_labels\n",
      "685/685 [==============================] - 1s 769us/step - loss: 0.3504 - mean_absolute_error_labels: 0.0976\n"
     ]
    }
   ],
   "source": [
    "history = model.fit(X_train, y_train, epochs = 5,\n",
    "                    callbacks = [tf.keras.callbacks.EarlyStopping(patience = 3, restore_best_weights = True)])"
   ]
  },
  {
   "cell_type": "markdown",
   "id": "3d8065e0",
   "metadata": {},
   "source": [
    "## Model Evaluation"
   ]
  },
  {
   "cell_type": "code",
   "execution_count": 21,
   "id": "b2d809e9",
   "metadata": {},
   "outputs": [
    {
     "name": "stdout",
     "output_type": "stream",
     "text": [
      "173/173 [==============================] - 0s 669us/step - loss: 0.3635 - mean_absolute_error_labels: 0.1228\n"
     ]
    },
    {
     "data": {
      "text/plain": [
       "[0.3635483384132385, 0.12283237278461456]"
      ]
     },
     "execution_count": 21,
     "metadata": {},
     "output_type": "execute_result"
    }
   ],
   "source": [
    "model.evaluate(X_test, y_test)"
   ]
  },
  {
   "cell_type": "code",
   "execution_count": 22,
   "id": "205022c4",
   "metadata": {},
   "outputs": [
    {
     "data": {
      "text/plain": [
       "(5525, 4)"
      ]
     },
     "execution_count": 22,
     "metadata": {},
     "output_type": "execute_result"
    }
   ],
   "source": [
    "# Note that these are ordinal (cumulative) logits, not probabilities or regular logits.\n",
    "ordinal_logits = model.predict(X_test)\n",
    "\n",
    "# Convert from logits to label probabilities. This is initially a tensorflow tensor.\n",
    "tensor_probs = coral.ordinal_softmax(ordinal_logits)\n",
    "\n",
    "# Convert the tensor into a pandas dataframe.\n",
    "probs_df = pd.DataFrame(tensor_probs.numpy())\n",
    "\n",
    "probs_df.shape"
   ]
  },
  {
   "cell_type": "code",
   "execution_count": 23,
   "id": "9ff99607",
   "metadata": {},
   "outputs": [
    {
     "data": {
      "text/html": [
       "<div>\n",
       "<style scoped>\n",
       "    .dataframe tbody tr th:only-of-type {\n",
       "        vertical-align: middle;\n",
       "    }\n",
       "\n",
       "    .dataframe tbody tr th {\n",
       "        vertical-align: top;\n",
       "    }\n",
       "\n",
       "    .dataframe thead th {\n",
       "        text-align: right;\n",
       "    }\n",
       "</style>\n",
       "<table border=\"1\" class=\"dataframe\">\n",
       "  <thead>\n",
       "    <tr style=\"text-align: right;\">\n",
       "      <th></th>\n",
       "      <th>0</th>\n",
       "      <th>1</th>\n",
       "      <th>2</th>\n",
       "      <th>3</th>\n",
       "    </tr>\n",
       "  </thead>\n",
       "  <tbody>\n",
       "    <tr>\n",
       "      <th>0</th>\n",
       "      <td>0.868707</td>\n",
       "      <td>0.123182</td>\n",
       "      <td>0.007576</td>\n",
       "      <td>0.000534</td>\n",
       "    </tr>\n",
       "    <tr>\n",
       "      <th>1</th>\n",
       "      <td>0.033962</td>\n",
       "      <td>0.359901</td>\n",
       "      <td>0.514737</td>\n",
       "      <td>0.091400</td>\n",
       "    </tr>\n",
       "    <tr>\n",
       "      <th>2</th>\n",
       "      <td>0.036111</td>\n",
       "      <td>0.373028</td>\n",
       "      <td>0.504606</td>\n",
       "      <td>0.086255</td>\n",
       "    </tr>\n",
       "    <tr>\n",
       "      <th>3</th>\n",
       "      <td>0.038390</td>\n",
       "      <td>0.386201</td>\n",
       "      <td>0.494034</td>\n",
       "      <td>0.081375</td>\n",
       "    </tr>\n",
       "    <tr>\n",
       "      <th>4</th>\n",
       "      <td>0.040807</td>\n",
       "      <td>0.399386</td>\n",
       "      <td>0.483060</td>\n",
       "      <td>0.076747</td>\n",
       "    </tr>\n",
       "    <tr>\n",
       "      <th>5</th>\n",
       "      <td>0.043370</td>\n",
       "      <td>0.412545</td>\n",
       "      <td>0.471724</td>\n",
       "      <td>0.072362</td>\n",
       "    </tr>\n",
       "    <tr>\n",
       "      <th>6</th>\n",
       "      <td>0.046085</td>\n",
       "      <td>0.425638</td>\n",
       "      <td>0.460068</td>\n",
       "      <td>0.068209</td>\n",
       "    </tr>\n",
       "    <tr>\n",
       "      <th>7</th>\n",
       "      <td>0.048962</td>\n",
       "      <td>0.438628</td>\n",
       "      <td>0.448133</td>\n",
       "      <td>0.064277</td>\n",
       "    </tr>\n",
       "    <tr>\n",
       "      <th>8</th>\n",
       "      <td>0.243075</td>\n",
       "      <td>0.612741</td>\n",
       "      <td>0.133292</td>\n",
       "      <td>0.010893</td>\n",
       "    </tr>\n",
       "    <tr>\n",
       "      <th>9</th>\n",
       "      <td>0.254962</td>\n",
       "      <td>0.608522</td>\n",
       "      <td>0.126287</td>\n",
       "      <td>0.010228</td>\n",
       "    </tr>\n",
       "  </tbody>\n",
       "</table>\n",
       "</div>"
      ],
      "text/plain": [
       "          0         1         2         3\n",
       "0  0.868707  0.123182  0.007576  0.000534\n",
       "1  0.033962  0.359901  0.514737  0.091400\n",
       "2  0.036111  0.373028  0.504606  0.086255\n",
       "3  0.038390  0.386201  0.494034  0.081375\n",
       "4  0.040807  0.399386  0.483060  0.076747\n",
       "5  0.043370  0.412545  0.471724  0.072362\n",
       "6  0.046085  0.425638  0.460068  0.068209\n",
       "7  0.048962  0.438628  0.448133  0.064277\n",
       "8  0.243075  0.612741  0.133292  0.010893\n",
       "9  0.254962  0.608522  0.126287  0.010228"
      ]
     },
     "execution_count": 23,
     "metadata": {},
     "output_type": "execute_result"
    }
   ],
   "source": [
    "probs_df.head(10)"
   ]
  },
  {
   "cell_type": "code",
   "execution_count": 24,
   "id": "0bfc596d",
   "metadata": {},
   "outputs": [
    {
     "data": {
      "text/plain": [
       "0    2\n",
       "1    2\n",
       "2    2\n",
       "3    2\n",
       "4    2\n",
       "5    2\n",
       "6    2\n",
       "7    1\n",
       "8    1\n",
       "9    1\n",
       "Name: state, dtype: int64"
      ]
     },
     "execution_count": 24,
     "metadata": {},
     "output_type": "execute_result"
    }
   ],
   "source": [
    "y_test.head(10)"
   ]
  },
  {
   "cell_type": "code",
   "execution_count": 25,
   "id": "d7942a74",
   "metadata": {},
   "outputs": [
    {
     "name": "stdout",
     "output_type": "stream",
     "text": [
      "Accuracy of label version 1: 0.8971945701357467\n"
     ]
    }
   ],
   "source": [
    "# Evaluate accuracy and mean absolute error\n",
    "labels_v1 = probs_df.idxmax(axis = 1)\n",
    "print(\"Accuracy of label version 1:\", np.mean(labels_v1 == y_test))"
   ]
  },
  {
   "cell_type": "code",
   "execution_count": 26,
   "id": "8c6f187c",
   "metadata": {},
   "outputs": [
    {
     "name": "stdout",
     "output_type": "stream",
     "text": [
      "Accuracy of label version 2: 0.9008144796380091\n"
     ]
    }
   ],
   "source": [
    "from scipy import special\n",
    "\n",
    "# Compare to logit-based cumulative probs\n",
    "cum_probs = pd.DataFrame(ordinal_logits).apply(special.expit)\n",
    "# Calculate the labels using the style of Cao et al.\n",
    "labels_v2 = cum_probs.apply(lambda x: x > 0.5).sum(axis = 1)\n",
    "print(\"Accuracy of label version 2:\", np.mean(labels_v2 == y_test))"
   ]
  },
  {
   "cell_type": "code",
   "execution_count": 27,
   "id": "4a9a1e59",
   "metadata": {},
   "outputs": [
    {
     "name": "stdout",
     "output_type": "stream",
     "text": [
      "Mean absolute label error version 1: 0.12669683257918551\n",
      "Mean absolute label error version 2: 0.12307692307692308\n",
      "Root mean squared label error version 1: 0.41814068082318423\n",
      "Root mean squared label error version 2: 0.41378946271867967\n"
     ]
    }
   ],
   "source": [
    "# These do not correspond with what we get from the model evaluation. Something must be off in one of these.\n",
    "print(\"Mean absolute label error version 1:\", np.mean(np.abs(labels_v1 - y_test)))\n",
    "print(\"Mean absolute label error version 2:\", np.mean(np.abs(labels_v2 - y_test)))\n",
    "\n",
    "print(\"Root mean squared label error version 1:\", np.sqrt(np.mean(np.square(labels_v1 - y_test))))\n",
    "print(\"Root mean squared label error version 2:\", np.sqrt(np.mean(np.square(labels_v2 - y_test))))"
   ]
  },
  {
   "cell_type": "code",
   "execution_count": 28,
   "id": "9e69aae6",
   "metadata": {},
   "outputs": [
    {
     "data": {
      "text/html": [
       "<div>\n",
       "<style scoped>\n",
       "    .dataframe tbody tr th:only-of-type {\n",
       "        vertical-align: middle;\n",
       "    }\n",
       "\n",
       "    .dataframe tbody tr th {\n",
       "        vertical-align: top;\n",
       "    }\n",
       "\n",
       "    .dataframe thead th {\n",
       "        text-align: right;\n",
       "    }\n",
       "</style>\n",
       "<table border=\"1\" class=\"dataframe\">\n",
       "  <thead>\n",
       "    <tr style=\"text-align: right;\">\n",
       "      <th></th>\n",
       "      <th>true</th>\n",
       "      <th>pred_v2</th>\n",
       "      <th>abs</th>\n",
       "    </tr>\n",
       "  </thead>\n",
       "  <tbody>\n",
       "    <tr>\n",
       "      <th>0</th>\n",
       "      <td>2</td>\n",
       "      <td>0</td>\n",
       "      <td>-2</td>\n",
       "    </tr>\n",
       "    <tr>\n",
       "      <th>1</th>\n",
       "      <td>2</td>\n",
       "      <td>2</td>\n",
       "      <td>0</td>\n",
       "    </tr>\n",
       "    <tr>\n",
       "      <th>2</th>\n",
       "      <td>2</td>\n",
       "      <td>2</td>\n",
       "      <td>0</td>\n",
       "    </tr>\n",
       "    <tr>\n",
       "      <th>3</th>\n",
       "      <td>2</td>\n",
       "      <td>2</td>\n",
       "      <td>0</td>\n",
       "    </tr>\n",
       "    <tr>\n",
       "      <th>4</th>\n",
       "      <td>2</td>\n",
       "      <td>2</td>\n",
       "      <td>0</td>\n",
       "    </tr>\n",
       "  </tbody>\n",
       "</table>\n",
       "</div>"
      ],
      "text/plain": [
       "   true  pred_v2  abs\n",
       "0     2        0   -2\n",
       "1     2        2    0\n",
       "2     2        2    0\n",
       "3     2        2    0\n",
       "4     2        2    0"
      ]
     },
     "execution_count": 28,
     "metadata": {},
     "output_type": "execute_result"
    }
   ],
   "source": [
    "# Review how absolute error is calculated for ordinal labels:\n",
    "pd.DataFrame({\"true\": y_test, \"pred_v2\": labels_v1, \"abs\": labels_v2 - y_test}).head()"
   ]
  }
 ],
 "metadata": {
  "kernelspec": {
   "display_name": "Python 3",
   "language": "python",
   "name": "python3"
  },
  "language_info": {
   "codemirror_mode": {
    "name": "ipython",
    "version": 3
   },
   "file_extension": ".py",
   "mimetype": "text/x-python",
   "name": "python",
   "nbconvert_exporter": "python",
   "pygments_lexer": "ipython3",
   "version": "3.8.8"
  }
 },
 "nbformat": 4,
 "nbformat_minor": 5
}
