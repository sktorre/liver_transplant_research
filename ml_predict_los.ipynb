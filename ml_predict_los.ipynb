{
 "cells": [
  {
   "cell_type": "markdown",
   "id": "f867a8cd",
   "metadata": {},
   "source": [
    "# Predicting Hospital Length of Stay for Liver Transplant Patients\n",
    "\n",
    "I want to predict the hospital length of stay for liver transplant patients, but I also want to know what part body composition plays in affecting hospital length of stay. This will require me to find not only a good prediction model but also interpret feature importance of this model to see how different body composition measures are important.\n",
    "\n",
    "## Reading in the Data"
   ]
  },
  {
   "cell_type": "code",
   "execution_count": 4,
   "id": "6e12ab69",
   "metadata": {},
   "outputs": [],
   "source": [
    "# Import two classes from the boxsdk module - Client and OAuth2\n",
    "from boxsdk import Client, OAuth2\n",
    "\n",
    "import pandas as pd\n",
    "import numpy as np\n",
    "import io\n",
    "\n",
    "# Read app info from text file\n",
    "with open('app.cfg', 'r') as app_cfg:\n",
    "    CLIENT_ID = app_cfg.readline()\n",
    "    CLIENT_SECRET = app_cfg.readline()\n",
    "    ACCESS_TOKEN = app_cfg.readline()"
   ]
  },
  {
   "cell_type": "code",
   "execution_count": 5,
   "id": "4de6c3b8",
   "metadata": {},
   "outputs": [],
   "source": [
    "class BOXFile:\n",
    " def __init__(self, CLIENT_ID, CLIENT_SECRET, ACCESS_TOKEN):\n",
    "     self._oauth2 = OAuth2(CLIENT_ID, CLIENT_SECRET, access_token=ACCESS_TOKEN)\n",
    "     self._client = Client(self._oauth2)\n",
    "     self._file = None\n",
    " \n",
    " def GetUserInfo(self):\n",
    "     my = self._client.user(user_id='me').get()\n",
    "\n",
    " def GetFile(self, fileID):\n",
    "     self._file = self._client.file(fileID)\n",
    "     return(self._file.content())"
   ]
  },
  {
   "cell_type": "code",
   "execution_count": 6,
   "id": "d004156d",
   "metadata": {},
   "outputs": [
    {
     "data": {
      "text/html": [
       "<div>\n",
       "<style scoped>\n",
       "    .dataframe tbody tr th:only-of-type {\n",
       "        vertical-align: middle;\n",
       "    }\n",
       "\n",
       "    .dataframe tbody tr th {\n",
       "        vertical-align: top;\n",
       "    }\n",
       "\n",
       "    .dataframe thead th {\n",
       "        text-align: right;\n",
       "    }\n",
       "</style>\n",
       "<table border=\"1\" class=\"dataframe\">\n",
       "  <thead>\n",
       "    <tr style=\"text-align: right;\">\n",
       "      <th></th>\n",
       "      <th>patient_mrn</th>\n",
       "      <th>dateof_transplant</th>\n",
       "      <th>admitdate</th>\n",
       "      <th>dischargedate</th>\n",
       "      <th>index_los</th>\n",
       "      <th>dob</th>\n",
       "      <th>age</th>\n",
       "      <th>height</th>\n",
       "      <th>weight</th>\n",
       "      <th>bmi_pre</th>\n",
       "      <th>...</th>\n",
       "      <th>vatsa_tratio01</th>\n",
       "      <th>vatsa_tratio02</th>\n",
       "      <th>vatsa_tratio03</th>\n",
       "      <th>vatsa_tratio04</th>\n",
       "      <th>vatsa_tratio05</th>\n",
       "      <th>vatsa_tratio06</th>\n",
       "      <th>vatsa_tratio07</th>\n",
       "      <th>vatsa_tratio08</th>\n",
       "      <th>vatsa_tratio09</th>\n",
       "      <th>vatsa_tratio10</th>\n",
       "    </tr>\n",
       "  </thead>\n",
       "  <tbody>\n",
       "    <tr>\n",
       "      <th>0</th>\n",
       "      <td>16813891</td>\n",
       "      <td>2009-01-09T00:00:00Z</td>\n",
       "      <td>2009-01-08T00:00:00Z</td>\n",
       "      <td>2009-01-17</td>\n",
       "      <td>9</td>\n",
       "      <td>1949-09-28T00:00:00Z</td>\n",
       "      <td>59</td>\n",
       "      <td>180.34</td>\n",
       "      <td>93.80</td>\n",
       "      <td>28.8416</td>\n",
       "      <td>...</td>\n",
       "      <td>0.906395</td>\n",
       "      <td>0.890775</td>\n",
       "      <td>NaN</td>\n",
       "      <td>1.048372</td>\n",
       "      <td>1.246631</td>\n",
       "      <td>1.23489</td>\n",
       "      <td>NaN</td>\n",
       "      <td>1.445707</td>\n",
       "      <td>NaN</td>\n",
       "      <td>NaN</td>\n",
       "    </tr>\n",
       "    <tr>\n",
       "      <th>1</th>\n",
       "      <td>29024593</td>\n",
       "      <td>2009-01-11T00:00:00Z</td>\n",
       "      <td>2009-01-11T00:00:00Z</td>\n",
       "      <td>2009-01-17</td>\n",
       "      <td>6</td>\n",
       "      <td>1967-09-20T00:00:00Z</td>\n",
       "      <td>41</td>\n",
       "      <td>162.56</td>\n",
       "      <td>74.27</td>\n",
       "      <td>28.1052</td>\n",
       "      <td>...</td>\n",
       "      <td>NaN</td>\n",
       "      <td>NaN</td>\n",
       "      <td>NaN</td>\n",
       "      <td>NaN</td>\n",
       "      <td>NaN</td>\n",
       "      <td>NaN</td>\n",
       "      <td>NaN</td>\n",
       "      <td>NaN</td>\n",
       "      <td>NaN</td>\n",
       "      <td>NaN</td>\n",
       "    </tr>\n",
       "    <tr>\n",
       "      <th>2</th>\n",
       "      <td>16077877</td>\n",
       "      <td>2009-01-13T00:00:00Z</td>\n",
       "      <td>2009-01-13T00:00:00Z</td>\n",
       "      <td>2009-01-20</td>\n",
       "      <td>7</td>\n",
       "      <td>1968-03-17T00:00:00Z</td>\n",
       "      <td>40</td>\n",
       "      <td>180.34</td>\n",
       "      <td>86.64</td>\n",
       "      <td>26.6400</td>\n",
       "      <td>...</td>\n",
       "      <td>0.455952</td>\n",
       "      <td>0.872470</td>\n",
       "      <td>NaN</td>\n",
       "      <td>NaN</td>\n",
       "      <td>NaN</td>\n",
       "      <td>NaN</td>\n",
       "      <td>NaN</td>\n",
       "      <td>NaN</td>\n",
       "      <td>NaN</td>\n",
       "      <td>NaN</td>\n",
       "    </tr>\n",
       "    <tr>\n",
       "      <th>3</th>\n",
       "      <td>26119388</td>\n",
       "      <td>2009-01-16T00:00:00Z</td>\n",
       "      <td>2009-01-16T00:00:00Z</td>\n",
       "      <td>2009-01-27</td>\n",
       "      <td>11</td>\n",
       "      <td>1941-05-20T00:00:00Z</td>\n",
       "      <td>67</td>\n",
       "      <td>167.64</td>\n",
       "      <td>87.69</td>\n",
       "      <td>31.2029</td>\n",
       "      <td>...</td>\n",
       "      <td>0.542356</td>\n",
       "      <td>NaN</td>\n",
       "      <td>NaN</td>\n",
       "      <td>NaN</td>\n",
       "      <td>NaN</td>\n",
       "      <td>NaN</td>\n",
       "      <td>NaN</td>\n",
       "      <td>NaN</td>\n",
       "      <td>NaN</td>\n",
       "      <td>NaN</td>\n",
       "    </tr>\n",
       "    <tr>\n",
       "      <th>4</th>\n",
       "      <td>28492320</td>\n",
       "      <td>2009-01-19T00:00:00Z</td>\n",
       "      <td>2009-01-19T00:00:00Z</td>\n",
       "      <td>2009-01-23</td>\n",
       "      <td>4</td>\n",
       "      <td>1956-10-18T00:00:00Z</td>\n",
       "      <td>52</td>\n",
       "      <td>167.64</td>\n",
       "      <td>67.92</td>\n",
       "      <td>24.1681</td>\n",
       "      <td>...</td>\n",
       "      <td>1.000000</td>\n",
       "      <td>NaN</td>\n",
       "      <td>NaN</td>\n",
       "      <td>NaN</td>\n",
       "      <td>NaN</td>\n",
       "      <td>NaN</td>\n",
       "      <td>NaN</td>\n",
       "      <td>NaN</td>\n",
       "      <td>NaN</td>\n",
       "      <td>NaN</td>\n",
       "    </tr>\n",
       "  </tbody>\n",
       "</table>\n",
       "<p>5 rows × 158 columns</p>\n",
       "</div>"
      ],
      "text/plain": [
       "   patient_mrn     dateof_transplant             admitdate dischargedate  \\\n",
       "0     16813891  2009-01-09T00:00:00Z  2009-01-08T00:00:00Z    2009-01-17   \n",
       "1     29024593  2009-01-11T00:00:00Z  2009-01-11T00:00:00Z    2009-01-17   \n",
       "2     16077877  2009-01-13T00:00:00Z  2009-01-13T00:00:00Z    2009-01-20   \n",
       "3     26119388  2009-01-16T00:00:00Z  2009-01-16T00:00:00Z    2009-01-27   \n",
       "4     28492320  2009-01-19T00:00:00Z  2009-01-19T00:00:00Z    2009-01-23   \n",
       "\n",
       "   index_los                   dob  age  height  weight  bmi_pre  ...  \\\n",
       "0          9  1949-09-28T00:00:00Z   59  180.34   93.80  28.8416  ...   \n",
       "1          6  1967-09-20T00:00:00Z   41  162.56   74.27  28.1052  ...   \n",
       "2          7  1968-03-17T00:00:00Z   40  180.34   86.64  26.6400  ...   \n",
       "3         11  1941-05-20T00:00:00Z   67  167.64   87.69  31.2029  ...   \n",
       "4          4  1956-10-18T00:00:00Z   52  167.64   67.92  24.1681  ...   \n",
       "\n",
       "   vatsa_tratio01  vatsa_tratio02  vatsa_tratio03  vatsa_tratio04  \\\n",
       "0        0.906395        0.890775             NaN        1.048372   \n",
       "1             NaN             NaN             NaN             NaN   \n",
       "2        0.455952        0.872470             NaN             NaN   \n",
       "3        0.542356             NaN             NaN             NaN   \n",
       "4        1.000000             NaN             NaN             NaN   \n",
       "\n",
       "   vatsa_tratio05  vatsa_tratio06  vatsa_tratio07  vatsa_tratio08  \\\n",
       "0        1.246631         1.23489             NaN        1.445707   \n",
       "1             NaN             NaN             NaN             NaN   \n",
       "2             NaN             NaN             NaN             NaN   \n",
       "3             NaN             NaN             NaN             NaN   \n",
       "4             NaN             NaN             NaN             NaN   \n",
       "\n",
       "   vatsa_tratio09  vatsa_tratio10  \n",
       "0             NaN             NaN  \n",
       "1             NaN             NaN  \n",
       "2             NaN             NaN  \n",
       "3             NaN             NaN  \n",
       "4             NaN             NaN  \n",
       "\n",
       "[5 rows x 158 columns]"
      ]
     },
     "execution_count": 6,
     "metadata": {},
     "output_type": "execute_result"
    }
   ],
   "source": [
    "boxfile = BOXFile(CLIENT_ID, CLIENT_SECRET, ACCESS_TOKEN)\n",
    "csvFile = boxfile.GetFile('930224826408').decode(\"utf-8\")\n",
    "ioFile = io.StringIO(csvFile)\n",
    "\n",
    "data = pd.read_csv(filepath_or_buffer = ioFile, delimiter = \",\")\n",
    "data.head()"
   ]
  },
  {
   "cell_type": "code",
   "execution_count": 7,
   "id": "79dd6572",
   "metadata": {},
   "outputs": [
    {
     "data": {
      "text/plain": [
       "(422, 158)"
      ]
     },
     "execution_count": 7,
     "metadata": {},
     "output_type": "execute_result"
    }
   ],
   "source": [
    "data.shape"
   ]
  },
  {
   "cell_type": "markdown",
   "id": "95cccbe7",
   "metadata": {},
   "source": [
    "## Feature Engineering\n",
    "\n",
    "There are currently 157 possible features and only 422 patients in the data set. I can first remove some possible features based on domain knowledge and which do not make sense for modeling. I also have many variables that were measured post liver transplant. I cannot use anything measured post liver transplant to predict liver transplant outcomes as this is using future information and will not be useful for future use.\n",
    "\n",
    "Ex. I cannot use post surgery complications as those take place after the liver transplant. I am only interested in using features that are information about the patient before undergoing surgery or directly during surgery such as surgery duration. Once they are placed in the ICU and the surgery is over I do not want to use any additional information about the patients for this particular model.\n",
    "\n",
    "I also know that certain variables are derived from others such as bmi being derived from height and weight and smi00 being derived from sma00 and height."
   ]
  },
  {
   "cell_type": "code",
   "execution_count": 19,
   "id": "8c16c0a7",
   "metadata": {},
   "outputs": [],
   "source": [
    "#for col in data.columns:\n",
    "#    print(col)"
   ]
  },
  {
   "cell_type": "code",
   "execution_count": 8,
   "id": "2d3898b1",
   "metadata": {},
   "outputs": [
    {
     "data": {
      "text/plain": [
       "(422, 26)"
      ]
     },
     "execution_count": 8,
     "metadata": {},
     "output_type": "execute_result"
    }
   ],
   "source": [
    "los_data = data[['index_los', 'age', 'height', 'weight', 'ascites_yn', 'he', 'race', 'sex', \n",
    "      'smoker', 'cit', 'dri', 'etiology', 'meld', 'acr', 'surgeryduration', 'sma00', \n",
    "      'vat00', 'sat00', 's_mhu00', 'v_fhu00', 'sa_thu00', 'copd_pre',\n",
    "      'htn_pre', 'dm_pre', 'cad_pre', 'ckd_pre']]\n",
    "los_data.shape"
   ]
  },
  {
   "cell_type": "markdown",
   "id": "ac1e1d6b",
   "metadata": {},
   "source": [
    "I was able to narrow it down to 25 features (plus outcome) for modeling."
   ]
  },
  {
   "cell_type": "markdown",
   "id": "7a20caa7",
   "metadata": {},
   "source": [
    "### Imputing Missing Data\n",
    "\n",
    "Some of my features have missing data. Due to a small data set size, it's very important that I keep all of my observations for modeling. Therefore, I will need to impute missing data points."
   ]
  },
  {
   "cell_type": "code",
   "execution_count": 9,
   "id": "4cb2458d",
   "metadata": {},
   "outputs": [
    {
     "data": {
      "text/plain": [
       "<AxesSubplot:>"
      ]
     },
     "execution_count": 9,
     "metadata": {},
     "output_type": "execute_result"
    },
    {
     "data": {
      "image/png": "[encoded data removed]",
      "text/plain": [
       "<Figure size 1800x720 with 3 Axes>"
      ]
     },
     "metadata": {
      "needs_background": "light"
     },
     "output_type": "display_data"
    }
   ],
   "source": [
    "#!pip install missingno\n",
    "import missingno as msno\n",
    "\n",
    "msno.bar(los_data)"
   ]
  },
  {
   "cell_type": "markdown",
   "id": "8314a619",
   "metadata": {},
   "source": [
    "As we can see from this bar plot showing how many observations are non-missing, there are hardly any missing values to impute. This is really good news as hardly any of the data will end up being imputed."
   ]
  },
  {
   "cell_type": "code",
   "execution_count": 10,
   "id": "5bd779e8",
   "metadata": {},
   "outputs": [
    {
     "data": {
      "text/plain": [
       "<AxesSubplot:>"
      ]
     },
     "execution_count": 10,
     "metadata": {},
     "output_type": "execute_result"
    },
    {
     "data": {
      "image/png": "[encoded data removed]",
      "text/plain": [
       "<Figure size 1440x864 with 2 Axes>"
      ]
     },
     "metadata": {
      "needs_background": "light"
     },
     "output_type": "display_data"
    }
   ],
   "source": [
    "msno.heatmap(los_data)"
   ]
  },
  {
   "cell_type": "markdown",
   "id": "5ae2c5a0",
   "metadata": {},
   "source": [
    "Here is a heatmap showing how missing values are related. This can be used to understand what is the best way to impute missing values for different features. Due to many high correlations, this means most of these values are missing for the same patients."
   ]
  },
  {
   "cell_type": "code",
   "execution_count": 11,
   "id": "5731691f",
   "metadata": {},
   "outputs": [
    {
     "data": {
      "text/plain": [
       "<AxesSubplot:>"
      ]
     },
     "execution_count": 11,
     "metadata": {},
     "output_type": "execute_result"
    },
    {
     "data": {
      "image/png": "[encoded data removed]",
      "text/plain": [
       "<Figure size 1800x720 with 2 Axes>"
      ]
     },
     "metadata": {
      "needs_background": "light"
     },
     "output_type": "display_data"
    }
   ],
   "source": [
    "msno.matrix(los_data)"
   ]
  },
  {
   "cell_type": "markdown",
   "id": "b1cb30f4",
   "metadata": {},
   "source": [
    "This matrix confirms that many of the missing values come from the same patients, especially for the body composition variables."
   ]
  },
  {
   "cell_type": "code",
   "execution_count": 12,
   "id": "25b1323c",
   "metadata": {},
   "outputs": [],
   "source": [
    "from sklearn.experimental import enable_iterative_imputer\n",
    "from sklearn.impute import IterativeImputer\n",
    "\n",
    "imp = IterativeImputer(max_iter=10, random_state=2022, imputation_order = 'random')\n",
    "i = imp.fit_transform(los_data)"
   ]
  },
  {
   "cell_type": "code",
   "execution_count": 13,
   "id": "8551373d",
   "metadata": {},
   "outputs": [],
   "source": [
    "imputed_data = pd.DataFrame(i, columns = los_data.columns)"
   ]
  },
  {
   "cell_type": "markdown",
   "id": "c39e8938",
   "metadata": {},
   "source": [
    "### Feature Scaling"
   ]
  },
  {
   "cell_type": "code",
   "execution_count": 14,
   "id": "d5e63c1e",
   "metadata": {},
   "outputs": [
    {
     "data": {
      "text/plain": [
       "index_los          float64\n",
       "age                float64\n",
       "height             float64\n",
       "weight             float64\n",
       "ascites_yn         float64\n",
       "he                 float64\n",
       "race               float64\n",
       "sex                float64\n",
       "smoker             float64\n",
       "cit                float64\n",
       "dri                float64\n",
       "etiology           float64\n",
       "meld               float64\n",
       "acr                float64\n",
       "surgeryduration    float64\n",
       "sma00              float64\n",
       "vat00              float64\n",
       "sat00              float64\n",
       "s_mhu00            float64\n",
       "v_fhu00            float64\n",
       "sa_thu00           float64\n",
       "copd_pre           float64\n",
       "htn_pre            float64\n",
       "dm_pre             float64\n",
       "cad_pre            float64\n",
       "ckd_pre            float64\n",
       "dtype: object"
      ]
     },
     "execution_count": 14,
     "metadata": {},
     "output_type": "execute_result"
    }
   ],
   "source": [
    "imputed_data.dtypes"
   ]
  },
  {
   "cell_type": "markdown",
   "id": "e4de2a80",
   "metadata": {},
   "source": [
    "All features are already one-hot encoded meaning all categorical variables are encoded as numerical values. This means my data is ready for modeling. I just need to split the X and Y."
   ]
  },
  {
   "cell_type": "code",
   "execution_count": 37,
   "id": "c021bec4",
   "metadata": {},
   "outputs": [],
   "source": [
    "y = imputed_data[['index_los']]\n",
    "features = imputed_data.drop(['index_los'], axis = 1)"
   ]
  },
  {
   "cell_type": "code",
   "execution_count": 38,
   "id": "392937fe",
   "metadata": {},
   "outputs": [
    {
     "data": {
      "text/html": [
       "<div>\n",
       "<style scoped>\n",
       "    .dataframe tbody tr th:only-of-type {\n",
       "        vertical-align: middle;\n",
       "    }\n",
       "\n",
       "    .dataframe tbody tr th {\n",
       "        vertical-align: top;\n",
       "    }\n",
       "\n",
       "    .dataframe thead th {\n",
       "        text-align: right;\n",
       "    }\n",
       "</style>\n",
       "<table border=\"1\" class=\"dataframe\">\n",
       "  <thead>\n",
       "    <tr style=\"text-align: right;\">\n",
       "      <th></th>\n",
       "      <th>age</th>\n",
       "      <th>height</th>\n",
       "      <th>weight</th>\n",
       "      <th>ascites_yn</th>\n",
       "      <th>he</th>\n",
       "      <th>race</th>\n",
       "      <th>sex</th>\n",
       "      <th>smoker</th>\n",
       "      <th>cit</th>\n",
       "      <th>dri</th>\n",
       "      <th>...</th>\n",
       "      <th>vat00</th>\n",
       "      <th>sat00</th>\n",
       "      <th>s_mhu00</th>\n",
       "      <th>v_fhu00</th>\n",
       "      <th>sa_thu00</th>\n",
       "      <th>copd_pre</th>\n",
       "      <th>htn_pre</th>\n",
       "      <th>dm_pre</th>\n",
       "      <th>cad_pre</th>\n",
       "      <th>ckd_pre</th>\n",
       "    </tr>\n",
       "  </thead>\n",
       "  <tbody>\n",
       "    <tr>\n",
       "      <th>count</th>\n",
       "      <td>422.000000</td>\n",
       "      <td>422.000000</td>\n",
       "      <td>422.000000</td>\n",
       "      <td>422.000000</td>\n",
       "      <td>422.000000</td>\n",
       "      <td>422.000000</td>\n",
       "      <td>422.000000</td>\n",
       "      <td>422.000000</td>\n",
       "      <td>422.000000</td>\n",
       "      <td>422.000000</td>\n",
       "      <td>...</td>\n",
       "      <td>422.000000</td>\n",
       "      <td>422.000000</td>\n",
       "      <td>422.000000</td>\n",
       "      <td>422.000000</td>\n",
       "      <td>422.000000</td>\n",
       "      <td>422.000000</td>\n",
       "      <td>422.000000</td>\n",
       "      <td>422.000000</td>\n",
       "      <td>422.000000</td>\n",
       "      <td>422.000000</td>\n",
       "    </tr>\n",
       "    <tr>\n",
       "      <th>mean</th>\n",
       "      <td>55.680095</td>\n",
       "      <td>172.106917</td>\n",
       "      <td>86.817235</td>\n",
       "      <td>0.808057</td>\n",
       "      <td>0.767773</td>\n",
       "      <td>0.080569</td>\n",
       "      <td>0.369668</td>\n",
       "      <td>0.111374</td>\n",
       "      <td>5.740260</td>\n",
       "      <td>0.201920</td>\n",
       "      <td>...</td>\n",
       "      <td>115.003324</td>\n",
       "      <td>232.762951</td>\n",
       "      <td>29.306173</td>\n",
       "      <td>-79.588684</td>\n",
       "      <td>-82.974323</td>\n",
       "      <td>0.035469</td>\n",
       "      <td>0.166063</td>\n",
       "      <td>0.094757</td>\n",
       "      <td>0.196995</td>\n",
       "      <td>0.066588</td>\n",
       "    </tr>\n",
       "    <tr>\n",
       "      <th>std</th>\n",
       "      <td>9.906428</td>\n",
       "      <td>10.346195</td>\n",
       "      <td>21.300785</td>\n",
       "      <td>0.394296</td>\n",
       "      <td>0.422755</td>\n",
       "      <td>0.272495</td>\n",
       "      <td>0.483288</td>\n",
       "      <td>0.314969</td>\n",
       "      <td>2.461373</td>\n",
       "      <td>0.323885</td>\n",
       "      <td>...</td>\n",
       "      <td>84.763138</td>\n",
       "      <td>129.196085</td>\n",
       "      <td>9.236945</td>\n",
       "      <td>8.400515</td>\n",
       "      <td>14.290294</td>\n",
       "      <td>0.185394</td>\n",
       "      <td>0.372348</td>\n",
       "      <td>0.293278</td>\n",
       "      <td>0.397859</td>\n",
       "      <td>0.249174</td>\n",
       "    </tr>\n",
       "    <tr>\n",
       "      <th>min</th>\n",
       "      <td>16.000000</td>\n",
       "      <td>142.240000</td>\n",
       "      <td>31.300000</td>\n",
       "      <td>0.000000</td>\n",
       "      <td>0.000000</td>\n",
       "      <td>0.000000</td>\n",
       "      <td>0.000000</td>\n",
       "      <td>0.000000</td>\n",
       "      <td>0.320000</td>\n",
       "      <td>-0.107339</td>\n",
       "      <td>...</td>\n",
       "      <td>2.484300</td>\n",
       "      <td>12.031200</td>\n",
       "      <td>7.858400</td>\n",
       "      <td>-107.159000</td>\n",
       "      <td>-114.321000</td>\n",
       "      <td>-0.032101</td>\n",
       "      <td>0.000000</td>\n",
       "      <td>-0.012407</td>\n",
       "      <td>0.000000</td>\n",
       "      <td>0.000000</td>\n",
       "    </tr>\n",
       "    <tr>\n",
       "      <th>25%</th>\n",
       "      <td>51.000000</td>\n",
       "      <td>165.100000</td>\n",
       "      <td>71.005000</td>\n",
       "      <td>1.000000</td>\n",
       "      <td>1.000000</td>\n",
       "      <td>0.000000</td>\n",
       "      <td>0.000000</td>\n",
       "      <td>0.000000</td>\n",
       "      <td>3.985000</td>\n",
       "      <td>0.023807</td>\n",
       "      <td>...</td>\n",
       "      <td>53.441600</td>\n",
       "      <td>137.191600</td>\n",
       "      <td>22.440075</td>\n",
       "      <td>-85.133650</td>\n",
       "      <td>-94.063150</td>\n",
       "      <td>0.000000</td>\n",
       "      <td>0.000000</td>\n",
       "      <td>0.000000</td>\n",
       "      <td>0.000000</td>\n",
       "      <td>0.000000</td>\n",
       "    </tr>\n",
       "    <tr>\n",
       "      <th>50%</th>\n",
       "      <td>57.000000</td>\n",
       "      <td>172.720000</td>\n",
       "      <td>85.000000</td>\n",
       "      <td>1.000000</td>\n",
       "      <td>1.000000</td>\n",
       "      <td>0.000000</td>\n",
       "      <td>0.000000</td>\n",
       "      <td>0.000000</td>\n",
       "      <td>5.390000</td>\n",
       "      <td>0.120943</td>\n",
       "      <td>...</td>\n",
       "      <td>98.257100</td>\n",
       "      <td>212.013900</td>\n",
       "      <td>29.528450</td>\n",
       "      <td>-78.449650</td>\n",
       "      <td>-84.680400</td>\n",
       "      <td>0.000000</td>\n",
       "      <td>0.000000</td>\n",
       "      <td>0.000000</td>\n",
       "      <td>0.000000</td>\n",
       "      <td>0.000000</td>\n",
       "    </tr>\n",
       "    <tr>\n",
       "      <th>75%</th>\n",
       "      <td>63.000000</td>\n",
       "      <td>180.340000</td>\n",
       "      <td>98.825000</td>\n",
       "      <td>1.000000</td>\n",
       "      <td>1.000000</td>\n",
       "      <td>0.000000</td>\n",
       "      <td>1.000000</td>\n",
       "      <td>0.000000</td>\n",
       "      <td>7.095000</td>\n",
       "      <td>0.280013</td>\n",
       "      <td>...</td>\n",
       "      <td>157.142500</td>\n",
       "      <td>320.859525</td>\n",
       "      <td>35.316500</td>\n",
       "      <td>-73.794075</td>\n",
       "      <td>-73.458350</td>\n",
       "      <td>0.000000</td>\n",
       "      <td>0.000000</td>\n",
       "      <td>0.000000</td>\n",
       "      <td>0.000000</td>\n",
       "      <td>0.000000</td>\n",
       "    </tr>\n",
       "    <tr>\n",
       "      <th>max</th>\n",
       "      <td>77.000000</td>\n",
       "      <td>203.200000</td>\n",
       "      <td>179.020000</td>\n",
       "      <td>1.000000</td>\n",
       "      <td>1.000000</td>\n",
       "      <td>1.000000</td>\n",
       "      <td>1.000000</td>\n",
       "      <td>1.000000</td>\n",
       "      <td>22.080000</td>\n",
       "      <td>3.271637</td>\n",
       "      <td>...</td>\n",
       "      <td>736.188900</td>\n",
       "      <td>658.235500</td>\n",
       "      <td>56.770300</td>\n",
       "      <td>-59.422200</td>\n",
       "      <td>-45.908700</td>\n",
       "      <td>1.000000</td>\n",
       "      <td>1.000000</td>\n",
       "      <td>1.000000</td>\n",
       "      <td>1.000000</td>\n",
       "      <td>1.000000</td>\n",
       "    </tr>\n",
       "  </tbody>\n",
       "</table>\n",
       "<p>8 rows × 25 columns</p>\n",
       "</div>"
      ],
      "text/plain": [
       "              age      height      weight  ascites_yn          he        race  \\\n",
       "count  422.000000  422.000000  422.000000  422.000000  422.000000  422.000000   \n",
       "mean    55.680095  172.106917   86.817235    0.808057    0.767773    0.080569   \n",
       "std      9.906428   10.346195   21.300785    0.394296    0.422755    0.272495   \n",
       "min     16.000000  142.240000   31.300000    0.000000    0.000000    0.000000   \n",
       "25%     51.000000  165.100000   71.005000    1.000000    1.000000    0.000000   \n",
       "50%     57.000000  172.720000   85.000000    1.000000    1.000000    0.000000   \n",
       "75%     63.000000  180.340000   98.825000    1.000000    1.000000    0.000000   \n",
       "max     77.000000  203.200000  179.020000    1.000000    1.000000    1.000000   \n",
       "\n",
       "              sex      smoker         cit         dri  ...       vat00  \\\n",
       "count  422.000000  422.000000  422.000000  422.000000  ...  422.000000   \n",
       "mean     0.369668    0.111374    5.740260    0.201920  ...  115.003324   \n",
       "std      0.483288    0.314969    2.461373    0.323885  ...   84.763138   \n",
       "min      0.000000    0.000000    0.320000   -0.107339  ...    2.484300   \n",
       "25%      0.000000    0.000000    3.985000    0.023807  ...   53.441600   \n",
       "50%      0.000000    0.000000    5.390000    0.120943  ...   98.257100   \n",
       "75%      1.000000    0.000000    7.095000    0.280013  ...  157.142500   \n",
       "max      1.000000    1.000000   22.080000    3.271637  ...  736.188900   \n",
       "\n",
       "            sat00     s_mhu00     v_fhu00    sa_thu00    copd_pre     htn_pre  \\\n",
       "count  422.000000  422.000000  422.000000  422.000000  422.000000  422.000000   \n",
       "mean   232.762951   29.306173  -79.588684  -82.974323    0.035469    0.166063   \n",
       "std    129.196085    9.236945    8.400515   14.290294    0.185394    0.372348   \n",
       "min     12.031200    7.858400 -107.159000 -114.321000   -0.032101    0.000000   \n",
       "25%    137.191600   22.440075  -85.133650  -94.063150    0.000000    0.000000   \n",
       "50%    212.013900   29.528450  -78.449650  -84.680400    0.000000    0.000000   \n",
       "75%    320.859525   35.316500  -73.794075  -73.458350    0.000000    0.000000   \n",
       "max    658.235500   56.770300  -59.422200  -45.908700    1.000000    1.000000   \n",
       "\n",
       "           dm_pre     cad_pre     ckd_pre  \n",
       "count  422.000000  422.000000  422.000000  \n",
       "mean     0.094757    0.196995    0.066588  \n",
       "std      0.293278    0.397859    0.249174  \n",
       "min     -0.012407    0.000000    0.000000  \n",
       "25%      0.000000    0.000000    0.000000  \n",
       "50%      0.000000    0.000000    0.000000  \n",
       "75%      0.000000    0.000000    0.000000  \n",
       "max      1.000000    1.000000    1.000000  \n",
       "\n",
       "[8 rows x 25 columns]"
      ]
     },
     "execution_count": 38,
     "metadata": {},
     "output_type": "execute_result"
    }
   ],
   "source": [
    "features.describe()"
   ]
  },
  {
   "cell_type": "markdown",
   "id": "a11cb55a",
   "metadata": {},
   "source": [
    "Due to many of the features having a large difference in range of values, I will scale the data."
   ]
  },
  {
   "cell_type": "code",
   "execution_count": 39,
   "id": "2c7fc78d",
   "metadata": {},
   "outputs": [],
   "source": [
    "# data normalization with sklearn\n",
    "from sklearn.preprocessing import MinMaxScaler\n",
    "\n",
    "# fit scaler on features data\n",
    "norm = MinMaxScaler().fit(features)\n",
    "\n",
    "# transform features\n",
    "features_norm = norm.transform(features)"
   ]
  },
  {
   "cell_type": "code",
   "execution_count": 40,
   "id": "5434a4dd",
   "metadata": {},
   "outputs": [
    {
     "data": {
      "text/html": [
       "<div>\n",
       "<style scoped>\n",
       "    .dataframe tbody tr th:only-of-type {\n",
       "        vertical-align: middle;\n",
       "    }\n",
       "\n",
       "    .dataframe tbody tr th {\n",
       "        vertical-align: top;\n",
       "    }\n",
       "\n",
       "    .dataframe thead th {\n",
       "        text-align: right;\n",
       "    }\n",
       "</style>\n",
       "<table border=\"1\" class=\"dataframe\">\n",
       "  <thead>\n",
       "    <tr style=\"text-align: right;\">\n",
       "      <th></th>\n",
       "      <th>age</th>\n",
       "      <th>height</th>\n",
       "      <th>weight</th>\n",
       "      <th>ascites_yn</th>\n",
       "      <th>he</th>\n",
       "      <th>race</th>\n",
       "      <th>sex</th>\n",
       "      <th>smoker</th>\n",
       "      <th>cit</th>\n",
       "      <th>dri</th>\n",
       "      <th>...</th>\n",
       "      <th>vat00</th>\n",
       "      <th>sat00</th>\n",
       "      <th>s_mhu00</th>\n",
       "      <th>v_fhu00</th>\n",
       "      <th>sa_thu00</th>\n",
       "      <th>copd_pre</th>\n",
       "      <th>htn_pre</th>\n",
       "      <th>dm_pre</th>\n",
       "      <th>cad_pre</th>\n",
       "      <th>ckd_pre</th>\n",
       "    </tr>\n",
       "  </thead>\n",
       "  <tbody>\n",
       "    <tr>\n",
       "      <th>0</th>\n",
       "      <td>0.704918</td>\n",
       "      <td>0.625000</td>\n",
       "      <td>0.423098</td>\n",
       "      <td>0.0</td>\n",
       "      <td>1.0</td>\n",
       "      <td>0.0</td>\n",
       "      <td>0.0</td>\n",
       "      <td>0.0</td>\n",
       "      <td>0.341912</td>\n",
       "      <td>0.049653</td>\n",
       "      <td>...</td>\n",
       "      <td>0.260041</td>\n",
       "      <td>0.359656</td>\n",
       "      <td>0.464049</td>\n",
       "      <td>0.684725</td>\n",
       "      <td>0.340507</td>\n",
       "      <td>0.031102</td>\n",
       "      <td>0.0</td>\n",
       "      <td>0.012255</td>\n",
       "      <td>0.0</td>\n",
       "      <td>0.0</td>\n",
       "    </tr>\n",
       "    <tr>\n",
       "      <th>1</th>\n",
       "      <td>0.409836</td>\n",
       "      <td>0.333333</td>\n",
       "      <td>0.290888</td>\n",
       "      <td>1.0</td>\n",
       "      <td>1.0</td>\n",
       "      <td>1.0</td>\n",
       "      <td>1.0</td>\n",
       "      <td>0.0</td>\n",
       "      <td>0.154412</td>\n",
       "      <td>0.115186</td>\n",
       "      <td>...</td>\n",
       "      <td>0.000014</td>\n",
       "      <td>0.100719</td>\n",
       "      <td>0.176391</td>\n",
       "      <td>0.809489</td>\n",
       "      <td>0.950290</td>\n",
       "      <td>0.031102</td>\n",
       "      <td>0.0</td>\n",
       "      <td>0.012255</td>\n",
       "      <td>0.0</td>\n",
       "      <td>0.0</td>\n",
       "    </tr>\n",
       "    <tr>\n",
       "      <th>2</th>\n",
       "      <td>0.393443</td>\n",
       "      <td>0.625000</td>\n",
       "      <td>0.374628</td>\n",
       "      <td>1.0</td>\n",
       "      <td>0.0</td>\n",
       "      <td>0.0</td>\n",
       "      <td>0.0</td>\n",
       "      <td>0.0</td>\n",
       "      <td>0.449908</td>\n",
       "      <td>0.100259</td>\n",
       "      <td>...</td>\n",
       "      <td>0.126886</td>\n",
       "      <td>0.197774</td>\n",
       "      <td>0.687418</td>\n",
       "      <td>0.521629</td>\n",
       "      <td>0.136964</td>\n",
       "      <td>0.031102</td>\n",
       "      <td>0.0</td>\n",
       "      <td>0.012255</td>\n",
       "      <td>0.0</td>\n",
       "      <td>0.0</td>\n",
       "    </tr>\n",
       "    <tr>\n",
       "      <th>3</th>\n",
       "      <td>0.836066</td>\n",
       "      <td>0.416667</td>\n",
       "      <td>0.381736</td>\n",
       "      <td>0.0</td>\n",
       "      <td>1.0</td>\n",
       "      <td>0.0</td>\n",
       "      <td>1.0</td>\n",
       "      <td>0.0</td>\n",
       "      <td>0.374540</td>\n",
       "      <td>0.038433</td>\n",
       "      <td>...</td>\n",
       "      <td>0.147517</td>\n",
       "      <td>0.418435</td>\n",
       "      <td>0.278787</td>\n",
       "      <td>0.548956</td>\n",
       "      <td>0.271245</td>\n",
       "      <td>0.031102</td>\n",
       "      <td>0.0</td>\n",
       "      <td>0.012255</td>\n",
       "      <td>0.0</td>\n",
       "      <td>0.0</td>\n",
       "    </tr>\n",
       "    <tr>\n",
       "      <th>4</th>\n",
       "      <td>0.590164</td>\n",
       "      <td>0.416667</td>\n",
       "      <td>0.247901</td>\n",
       "      <td>0.0</td>\n",
       "      <td>1.0</td>\n",
       "      <td>0.0</td>\n",
       "      <td>0.0</td>\n",
       "      <td>0.0</td>\n",
       "      <td>0.361213</td>\n",
       "      <td>0.034797</td>\n",
       "      <td>...</td>\n",
       "      <td>0.160089</td>\n",
       "      <td>0.166992</td>\n",
       "      <td>0.518649</td>\n",
       "      <td>0.372920</td>\n",
       "      <td>0.321439</td>\n",
       "      <td>0.031102</td>\n",
       "      <td>1.0</td>\n",
       "      <td>0.012255</td>\n",
       "      <td>0.0</td>\n",
       "      <td>0.0</td>\n",
       "    </tr>\n",
       "  </tbody>\n",
       "</table>\n",
       "<p>5 rows × 25 columns</p>\n",
       "</div>"
      ],
      "text/plain": [
       "        age    height    weight  ascites_yn   he  race  sex  smoker       cit  \\\n",
       "0  0.704918  0.625000  0.423098         0.0  1.0   0.0  0.0     0.0  0.341912   \n",
       "1  0.409836  0.333333  0.290888         1.0  1.0   1.0  1.0     0.0  0.154412   \n",
       "2  0.393443  0.625000  0.374628         1.0  0.0   0.0  0.0     0.0  0.449908   \n",
       "3  0.836066  0.416667  0.381736         0.0  1.0   0.0  1.0     0.0  0.374540   \n",
       "4  0.590164  0.416667  0.247901         0.0  1.0   0.0  0.0     0.0  0.361213   \n",
       "\n",
       "        dri  ...     vat00     sat00   s_mhu00   v_fhu00  sa_thu00  copd_pre  \\\n",
       "0  0.049653  ...  0.260041  0.359656  0.464049  0.684725  0.340507  0.031102   \n",
       "1  0.115186  ...  0.000014  0.100719  0.176391  0.809489  0.950290  0.031102   \n",
       "2  0.100259  ...  0.126886  0.197774  0.687418  0.521629  0.136964  0.031102   \n",
       "3  0.038433  ...  0.147517  0.418435  0.278787  0.548956  0.271245  0.031102   \n",
       "4  0.034797  ...  0.160089  0.166992  0.518649  0.372920  0.321439  0.031102   \n",
       "\n",
       "   htn_pre    dm_pre  cad_pre  ckd_pre  \n",
       "0      0.0  0.012255      0.0      0.0  \n",
       "1      0.0  0.012255      0.0      0.0  \n",
       "2      0.0  0.012255      0.0      0.0  \n",
       "3      0.0  0.012255      0.0      0.0  \n",
       "4      1.0  0.012255      0.0      0.0  \n",
       "\n",
       "[5 rows x 25 columns]"
      ]
     },
     "execution_count": 40,
     "metadata": {},
     "output_type": "execute_result"
    }
   ],
   "source": [
    "features = pd.DataFrame(features_norm, columns = features.columns)\n",
    "features.head()"
   ]
  },
  {
   "cell_type": "markdown",
   "id": "94754c10",
   "metadata": {},
   "source": [
    "## Modeling\n",
    "\n",
    "Due to a small data set, I plan on using k-fold cross validation rather than splitting the data into a training and test set. This will allow me to use all the data for training. I will fit several different models and determine which has the best prediction ability based on MSE.\n",
    "\n",
    "### Finding the Optimal K for k-fold cross validation\n",
    "\n",
    "What value of k should I choose? I will iterate over several different values of k and compare the mse of different linear regression models to choose a k value."
   ]
  },
  {
   "cell_type": "code",
   "execution_count": 48,
   "id": "9adabc09",
   "metadata": {},
   "outputs": [],
   "source": [
    "from sklearn.model_selection import KFold\n",
    "from sklearn.model_selection import cross_val_score\n",
    "from sklearn.linear_model import LinearRegression\n",
    "from numpy import mean\n",
    "from numpy import absolute\n",
    "from sklearn.tree import DecisionTreeRegressor\n",
    "from sklearn.ensemble import RandomForestRegressor"
   ]
  },
  {
   "cell_type": "code",
   "execution_count": 47,
   "id": "622b1c21",
   "metadata": {},
   "outputs": [
    {
     "name": "stdout",
     "output_type": "stream",
     "text": [
      "k=2, mse=7.392\n",
      "k=3, mse=6.917\n",
      "k=4, mse=6.980\n",
      "k=5, mse=6.910\n",
      "k=6, mse=6.918\n",
      "k=7, mse=7.056\n",
      "k=8, mse=6.975\n",
      "k=9, mse=6.931\n",
      "k=10, mse=6.911\n",
      "k=11, mse=6.938\n",
      "k=12, mse=6.942\n",
      "k=13, mse=7.000\n",
      "k=14, mse=6.961\n",
      "k=15, mse=6.938\n",
      "k=16, mse=6.946\n",
      "k=17, mse=6.973\n",
      "k=18, mse=6.937\n",
      "k=19, mse=6.916\n"
     ]
    }
   ],
   "source": [
    "folds = range(2,20)\n",
    "\n",
    "for k in folds:\n",
    "    cv = KFold(n_splits=k, random_state=1, shuffle=True)\n",
    "    model = LinearRegression()\n",
    "    scores = cross_val_score(model, features, y, scoring='neg_mean_absolute_error',\n",
    "                             cv=cv, n_jobs=-1)\n",
    "    print('k=%d, mse=%.3f' % (k,mean(absolute(scores))))"
   ]
  },
  {
   "cell_type": "markdown",
   "id": "2bcc2623",
   "metadata": {},
   "source": [
    "Typically, 5 or 10 folds are the most common in practice. Interestingly enough, these are exactly the two k values that performed the best in this situation. I will use 5 folds moving forward as it is slightly less complex than 10 and it will allow the number of observations in each fold to be a bit larger since I have such a small data set."
   ]
  },
  {
   "cell_type": "code",
   "execution_count": 51,
   "id": "043e5167",
   "metadata": {},
   "outputs": [
    {
     "name": "stdout",
     "output_type": "stream",
     "text": [
      "mse=6.910\n",
      "mse=9.837\n",
      "mse=7.117\n"
     ]
    }
   ],
   "source": [
    "lr = LinearRegression()\n",
    "dt_regressor = DecisionTreeRegressor(random_state = 0)\n",
    "rf_regressor = RandomForestRegressor(n_estimators = 300 ,  random_state = 0)\n",
    "\n",
    "models = np.array([lr,dt_regressor,rf_regressor])\n",
    "\n",
    "for model in models:\n",
    "    cv = KFold(n_splits=5, random_state=1, shuffle=True)\n",
    "    scores = cross_val_score(model, features, y, scoring='neg_mean_absolute_error',\n",
    "                             cv=cv, n_jobs=-1)\n",
    "    print('mse=%.3f' % (mean(absolute(scores))))"
   ]
  },
  {
   "cell_type": "code",
   "execution_count": 50,
   "id": "f325191f",
   "metadata": {},
   "outputs": [],
   "source": []
  },
  {
   "cell_type": "markdown",
   "id": "46423bee",
   "metadata": {},
   "source": [
    "## Feature Importance"
   ]
  },
  {
   "cell_type": "code",
   "execution_count": null,
   "id": "ef0688d4",
   "metadata": {},
   "outputs": [],
   "source": []
  },
  {
   "cell_type": "markdown",
   "id": "54938297",
   "metadata": {},
   "source": [
    "# A Survival Analysis of Patients post liver transplant\n",
    "\n",
    "This is a classification problem of whether a patient is dead or alive at a certian time point post liver transplant. I will use the data to determine this time point, but I will decide based on two factors:\n",
    "\n",
    "* The least imbalance in classes (dead or alive) while\n",
    "* ensuring death is close after transplant as too far post transplant we cannot assume the death was related to the transplant"
   ]
  },
  {
   "cell_type": "code",
   "execution_count": 61,
   "id": "c94b7961",
   "metadata": {},
   "outputs": [
    {
     "data": {
      "text/plain": [
       "0      NaN\n",
       "1      NaN\n",
       "2      NaN\n",
       "3      NaN\n",
       "4      NaN\n",
       "      ... \n",
       "417    NaN\n",
       "418    NaN\n",
       "419    NaN\n",
       "420    NaN\n",
       "421    NaN\n",
       "Name: days_until_death, Length: 422, dtype: category\n",
       "Categories (2, object): ['dead' < 'alive']"
      ]
     },
     "execution_count": 61,
     "metadata": {},
     "output_type": "execute_result"
    }
   ],
   "source": [
    "data['days_until_death'] = data['days_until_death'].fillna(5000)\n",
    "pd.cut(data['days_until_death'], bins=[0,30,4000], labels=['dead','alive'])"
   ]
  },
  {
   "cell_type": "code",
   "execution_count": 55,
   "id": "14ce4a33",
   "metadata": {},
   "outputs": [
    {
     "data": {
      "text/plain": [
       "0      NaN\n",
       "1      NaN\n",
       "2      NaN\n",
       "3      NaN\n",
       "4      NaN\n",
       "      ... \n",
       "417    NaN\n",
       "418    NaN\n",
       "419    NaN\n",
       "420    NaN\n",
       "421    NaN\n",
       "Name: days_until_death, Length: 422, dtype: category\n",
       "Categories (2, object): ['dead' < 'alive']"
      ]
     },
     "execution_count": 55,
     "metadata": {},
     "output_type": "execute_result"
    }
   ],
   "source": [
    "pd.cut(data.days_until_death, bins=[0,30,4000], labels=['dead','alive'])"
   ]
  },
  {
   "cell_type": "code",
   "execution_count": 59,
   "id": "d3c7d8ca",
   "metadata": {},
   "outputs": [
    {
     "data": {
      "text/plain": [
       "4078.0"
      ]
     },
     "execution_count": 59,
     "metadata": {},
     "output_type": "execute_result"
    }
   ],
   "source": [
    "data['days_until_death'].max()"
   ]
  },
  {
   "cell_type": "code",
   "execution_count": null,
   "id": "c01a7a76",
   "metadata": {},
   "outputs": [],
   "source": [
    "df['C'] = df['C'].apply(lambda x: 0 if x.strip()=='N' else 1)"
   ]
  }
 ],
 "metadata": {
  "kernelspec": {
   "display_name": "Python 3",
   "language": "python",
   "name": "python3"
  },
  "language_info": {
   "codemirror_mode": {
    "name": "ipython",
    "version": 3
   },
   "file_extension": ".py",
   "mimetype": "text/x-python",
   "name": "python",
   "nbconvert_exporter": "python",
   "pygments_lexer": "ipython3",
   "version": "3.8.8"
  }
 },
 "nbformat": 4,
 "nbformat_minor": 5
}
